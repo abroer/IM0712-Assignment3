{
 "cells": [
  {
   "metadata": {},
   "cell_type": "code",
   "source": [
    "import pandas as pd\n",
    "import numpy as np\n",
    "from sklearn.preprocessing import StandardScaler\n",
    "from sklearn.model_selection import train_test_split\n",
    "from sklearn.svm import SVR\n",
    "from sklearn.metrics import mean_squared_error, mean_absolute_percentage_error, make_scorer\n",
    "from scipy.stats import pearsonr\n",
    "import matplotlib.pyplot as plt\n",
    "\n",
    "import shap\n"
   ],
   "id": "64ed7fb945096860",
   "outputs": [],
   "execution_count": null
  },
  {
   "metadata": {},
   "cell_type": "markdown",
   "source": [
    "In het artikel geven ze aan dat ze met de red wine gewerkt hebben: \"we\n",
    "have chosen redwine data for our study because of its popularity over the\n",
    "white wine.\""
   ],
   "id": "80c7013008dfd9cf"
  },
  {
   "metadata": {},
   "cell_type": "code",
   "source": [
    "\n",
    "# Define the relative path to the CSV file\n",
    "relative_path = 'wine+quality/winequality-red.csv'\n",
    "\n",
    "# Read the CSV file using pandas\n",
    "red_wine_df = pd.read_csv(relative_path, delimiter=';')"
   ],
   "id": "9cfcf272a23df0a7",
   "outputs": [],
   "execution_count": null
  },
  {
   "metadata": {},
   "cell_type": "code",
   "source": [
    "\n",
    "# Define the relative path to the CSV file\n",
    "relative_path = 'wine+quality/winequality-white.csv'\n",
    "\n",
    "# Read the CSV file using pandas\n",
    "white_wine_df = pd.read_csv(relative_path, delimiter=';')\n",
    "\n",
    "\n"
   ],
   "id": "a96b5f580f70f2bf",
   "outputs": [],
   "execution_count": null
  },
  {
   "metadata": {},
   "cell_type": "code",
   "source": [
    "# Display the first few rows of the data\n",
    "print(red_wine_df.head())"
   ],
   "id": "939f56886ae14304",
   "outputs": [],
   "execution_count": null
  },
  {
   "metadata": {},
   "cell_type": "code",
   "source": "len(red_wine_df)",
   "id": "bfeea1a1a2e4be09",
   "outputs": [],
   "execution_count": null
  },
  {
   "metadata": {},
   "cell_type": "markdown",
   "source": [
    "In het artikel geven ze aan dat de dataset 4898 samples bevat: \"The dataset contains the records of 4898 random samples of wine manufactured.\"\n",
    "Dit komt niet overeen met het aantal samples in de redwine dataset. Dit komt overeen met het aantal samples in de whitewine dataset."
   ],
   "id": "4d5a9a23bc6ad732"
  },
  {
   "metadata": {},
   "cell_type": "code",
   "source": "len(white_wine_df)",
   "id": "ac1dea1ccccc55af",
   "outputs": [],
   "execution_count": null
  },
  {
   "metadata": {},
   "cell_type": "code",
   "source": [
    "# Calculate the required statistics\n",
    "statistics = red_wine_df.describe().T[['mean', 'std', 'min', 'max']]\n",
    "statistics['median'] = red_wine_df.median()\n",
    "\n",
    "# Display the statistics\n",
    "print(statistics)\n"
   ],
   "id": "bca231ed82a16b50",
   "outputs": [],
   "execution_count": null
  },
  {
   "metadata": {},
   "cell_type": "code",
   "source": [
    "# Calculate the required statistics\n",
    "statistics = white_wine_df.describe().T[['mean', 'std', 'min', 'max']]\n",
    "statistics['median'] = white_wine_df.median()\n",
    "\n",
    "# Display the statistics\n",
    "print(statistics)\n"
   ],
   "id": "5bc24d67dc0de9c9",
   "outputs": [],
   "execution_count": null
  },
  {
   "metadata": {},
   "cell_type": "markdown",
   "source": "Ook de statistics van table1 in het article \"Descriptive statistics of the variables of the redwine data.\" komen overeen met de statistics van de white wine.",
   "id": "391b879f90d94788"
  },
  {
   "metadata": {},
   "cell_type": "code",
   "source": [
    "# Calculate the Pearson correlation coefficient (r) of the predictors with respect to the target variable: quality\n",
    "correlation_coefficients = white_wine_df.corr()['quality']\n",
    "\n",
    "# Display the correlation coefficients\n",
    "print(correlation_coefficients)\n"
   ],
   "id": "fa99a1bda3057848",
   "outputs": [],
   "execution_count": null
  },
  {
   "metadata": {},
   "cell_type": "code",
   "source": [
    "# Calculate the Pearson correlation coefficient (r) of the predictors with respect to the target variable: quality\n",
    "correlation_coefficients = red_wine_df.corr()['quality']\n",
    "\n",
    "# Display the correlation coefficients\n",
    "print(correlation_coefficients)"
   ],
   "id": "4f84c7fcecc96dcb",
   "outputs": [],
   "execution_count": null
  },
  {
   "metadata": {},
   "cell_type": "markdown",
   "source": "Ook de table2 van het artikel komt overeen met de data van whitewine.",
   "id": "40508c1724db4176"
  },
  {
   "metadata": {},
   "cell_type": "markdown",
   "source": "De cijfers van table3 zijn volgens mij de cijfers die we moeten reproduceren.",
   "id": "2b0ce530c9415ea0"
  },
  {
   "metadata": {},
   "cell_type": "markdown",
   "source": [
    "\"feature scaling is a very important step one need to take care of, before\n",
    "training any ML model.\"\n",
    "\"To scale the features of the dataset, standardization has\n",
    "been used.\"\n"
   ],
   "id": "58c803ca0c85aa79"
  },
  {
   "metadata": {},
   "cell_type": "code",
   "source": [
    "# Initialize the StandardScaler\n",
    "scaler = StandardScaler()\n"
   ],
   "id": "86890b5d1461f0a3",
   "outputs": [],
   "execution_count": null
  },
  {
   "metadata": {},
   "cell_type": "code",
   "source": [
    "# Apply standardization to the DataFrame\n",
    "white_wine_scaled = scaler.fit_transform(white_wine_df)\n"
   ],
   "id": "5fea572ce5f6b6b6",
   "outputs": [],
   "execution_count": null
  },
  {
   "metadata": {},
   "cell_type": "code",
   "source": [
    "# Convert the scaled data back to a DataFrame\n",
    "white_wine_scaled_df = pd.DataFrame(white_wine_scaled, columns=white_wine_df.columns)\n"
   ],
   "id": "1565afb245af5723",
   "outputs": [],
   "execution_count": null
  },
  {
   "metadata": {},
   "cell_type": "code",
   "source": "print(white_wine_scaled_df.head())",
   "id": "adbaac677064becb",
   "outputs": [],
   "execution_count": null
  },
  {
   "metadata": {},
   "cell_type": "markdown",
   "source": "\"The data was split into training data set and testing data set in the ratio 3:1.\"\n",
   "id": "d9cbaafdf6e12fbe"
  },
  {
   "metadata": {},
   "cell_type": "code",
   "source": [
    "# Split the data into features and target variable\n",
    "X = white_wine_scaled_df.drop('quality', axis=1)\n",
    "y = white_wine_df['quality']\n"
   ],
   "id": "c38c5fc8887f67c6",
   "outputs": [],
   "execution_count": null
  },
  {
   "metadata": {},
   "cell_type": "code",
   "source": [
    "# Split the data into training and testing sets in the ratio 3:1\n",
    "X_train, X_test, y_train, y_test = train_test_split(X, y, test_size=0.25, random_state=1)\n"
   ],
   "id": "b5c4740543ad990c",
   "outputs": [],
   "execution_count": null
  },
  {
   "metadata": {},
   "cell_type": "markdown",
   "source": [
    "\"In this work, we\n",
    "have used radial basis kernel (RBF) because it outperformed other kernels based\n",
    "SVR in redwine dataset.\"\n",
    "\n",
    "\"The optimal values\n",
    "the parameters computed using 10-fold cross-validation are cost = 0.95 and\n",
    "gamma = 0.13.\""
   ],
   "id": "e4a2c9df0391e52f"
  },
  {
   "metadata": {},
   "cell_type": "markdown",
   "source": "de crosvalidatie kunnen we ook nog nabootsen.",
   "id": "6d4e18180a710e31"
  },
  {
   "metadata": {},
   "cell_type": "code",
   "source": [
    "# Initialize and train the SVR model with RBF kernel\n",
    "svr = SVR(kernel='rbf', C=0.95, gamma=0.13)\n",
    "svr.fit(X_train, y_train)\n"
   ],
   "id": "652dd0e92469ecfb",
   "outputs": [],
   "execution_count": null
  },
  {
   "metadata": {},
   "cell_type": "code",
   "source": [
    "# Make predictions for training and testing sets\n",
    "y_train_pred = svr.predict(X_train)\n",
    "y_test_pred = svr.predict(X_test)\n"
   ],
   "id": "6575dc045253eca9",
   "outputs": [],
   "execution_count": null
  },
  {
   "metadata": {},
   "cell_type": "code",
   "source": "",
   "id": "ce1e64fb22acf19e",
   "outputs": [],
   "execution_count": null
  },
  {
   "metadata": {},
   "cell_type": "code",
   "source": [
    "# Print the lengths and types of the variables\n",
    "print(f\"Length of y_train_pred: {len(y_train_pred)}, Type: {type(y_train_pred)}\")\n",
    "print(f\"Length of y_test_pred: {len(y_test_pred)}, Type: {type(y_test_pred)}\\n\")\n",
    "\n",
    "# Print the lengths and types of the variables\n",
    "print(f\"Length of X_train: {len(X_train)}, Type: {type(X_train)}\")\n",
    "print(f\"Length of X_test: {len(X_test)}, Type: {type(X_test)}\\n\")\n",
    "\n",
    "\n"
   ],
   "id": "19f3a6917e51fc11",
   "outputs": [],
   "execution_count": null
  },
  {
   "metadata": {},
   "cell_type": "markdown",
   "source": "![image.png](attachment:image.png)",
   "id": "e370b2e02db0bf28"
  },
  {
   "metadata": {},
   "cell_type": "markdown",
   "source": "Te controleren: is dit echt de Pearson correlation coefficient?",
   "id": "56d8df0fa3414618"
  },
  {
   "metadata": {},
   "cell_type": "code",
   "source": [
    "# Function to calculate R (Pearson correlation coefficient), MSE, and MAPE\n",
    "def calculate_metrics(y_true, y_pred):\n",
    "    # Calculate R (Pearson correlation coefficient)\n",
    "    r, _ = pearsonr(y_true, y_pred)\n",
    "\n",
    "    # Calculate MSE\n",
    "    mse = mean_squared_error(y_true, y_pred)\n",
    "\n",
    "    # Calculate MAPE\n",
    "    mape = mean_absolute_percentage_error(y_true, y_pred)\n",
    "\n",
    "    return r, mse, mape\n"
   ],
   "id": "6bf8d40ab64c97cc",
   "outputs": [],
   "execution_count": null
  },
  {
   "metadata": {},
   "cell_type": "code",
   "source": [
    "# Calculate metrics for training data set\n",
    "train_r, train_mse, train_mape = calculate_metrics(y_train, y_train_pred)\n",
    "\n",
    "# Calculate metrics for testing data set\n",
    "test_r, test_mse, test_mape = calculate_metrics(y_test, y_test_pred)\n",
    "\n",
    "\n",
    "print(f\"Training Data Set Metrics:\\nR: {train_r}\\nMSE: {train_mse}\\nMAPE: {train_mape}\")\n",
    "print(f\"Testing Data Set Metrics:\\nR: {test_r}\\nMSE: {test_mse}\\nMAPE: {test_mape}\")\n"
   ],
   "id": "326d3ebbe2ee7db1",
   "outputs": [],
   "execution_count": null
  },
  {
   "metadata": {},
   "cell_type": "markdown",
   "source": "![image.png](attachment:image.png)",
   "id": "c41bb63c8fef4f21"
  },
  {
   "metadata": {},
   "cell_type": "markdown",
   "source": "Analyze the impact of the parameters using SHAP values.",
   "id": "5d526e9a39eb4cb2"
  },
  {
   "metadata": {},
   "cell_type": "code",
   "source": [
    "background_data = X_train.sample(100, random_state=1)  # Use a subset of the training data for background\n",
    "test_data = X_test.sample(20, random_state=1)  # Use a subset of the test data for SHAP values\n",
    "\n",
    "explainer = shap.KernelExplainer(svr.predict, background_data)\n",
    "\n",
    "shap_values = explainer.shap_values(test_data)\n",
    "\n",
    "shap.summary_plot(shap_values, test_data, feature_names=X.columns)"
   ],
   "id": "bfd47fff85444f29",
   "outputs": [],
   "execution_count": null
  },
  {
   "metadata": {},
   "cell_type": "code",
   "source": [
    "fig, ax = plt.subplots(4, 3, figsize=(20, 15))\n",
    "ax = ax.flatten()\n",
    "\n",
    "for i in range(X.shape[1]):\n",
    "    shap.dependence_plot(i, shap_values, test_data, feature_names=X.columns, ax=ax[i], show=False)\n",
    "\n",
    "for j in range(X.shape[1], len(ax)):\n",
    "    fig.delaxes(ax[j])\n",
    "\n",
    "plt.tight_layout()\n",
    "plt.show()\n"
   ],
   "id": "478fb9a779ba7b4d",
   "outputs": [],
   "execution_count": null
  },
  {
   "metadata": {},
   "cell_type": "code",
   "source": [
    "shap.initjs()\n",
    "shap.plots.force(explainer.expected_value, shap_values, feature_names=X.columns)"
   ],
   "id": "ce2020aca864996c",
   "outputs": [],
   "execution_count": null
  }
 ],
 "metadata": {
  "kernelspec": {
   "display_name": "Python 3",
   "language": "python",
   "name": "python3"
  },
  "language_info": {
   "codemirror_mode": {
    "name": "ipython",
    "version": 2
   },
   "file_extension": ".py",
   "mimetype": "text/x-python",
   "name": "python",
   "nbconvert_exporter": "python",
   "pygments_lexer": "ipython2",
   "version": "2.7.6"
  }
 },
 "nbformat": 4,
 "nbformat_minor": 5
}
