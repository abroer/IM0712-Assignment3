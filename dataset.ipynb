{
 "cells": [
  {
   "cell_type": "code",
   "execution_count": 17,
   "metadata": {},
   "outputs": [],
   "source": [
    "import pandas as pd"
   ]
  },
  {
   "cell_type": "markdown",
   "metadata": {},
   "source": [
    "In the article they indicate that they worked with red wine: \"we\n",
    "have chosen redwine data for our study because of its popularity over the\n",
    "white wine.\""
   ]
  },
  {
   "cell_type": "markdown",
   "metadata": {},
   "source": [
    "Importing the red and white wine:"
   ]
  },
  {
   "cell_type": "code",
   "execution_count": 18,
   "metadata": {},
   "outputs": [],
   "source": [
    "\n",
    "# Define the relative path to the CSV file\n",
    "relative_path_red_wine = 'wine+quality/winequality-red.csv'\n",
    "\n",
    "# Read the CSV file using pandas\n",
    "red_wine_df = pd.read_csv(relative_path_red_wine, delimiter=';')"
   ]
  },
  {
   "cell_type": "code",
   "execution_count": 19,
   "metadata": {},
   "outputs": [],
   "source": [
    "\n",
    "# Define the relative path to the CSV file\n",
    "relative_path_white_wine = 'wine+quality/winequality-white.csv'\n",
    "\n",
    "# Read the CSV file using pandas\n",
    "white_wine_df = pd.read_csv(relative_path_white_wine, delimiter=';')\n",
    "\n",
    "\n"
   ]
  },
  {
   "cell_type": "code",
   "execution_count": 20,
   "metadata": {},
   "outputs": [
    {
     "name": "stdout",
     "output_type": "stream",
     "text": [
      "   fixed acidity  volatile acidity  citric acid  residual sugar  chlorides  \\\n",
      "0            7.4              0.70         0.00             1.9      0.076   \n",
      "1            7.8              0.88         0.00             2.6      0.098   \n",
      "2            7.8              0.76         0.04             2.3      0.092   \n",
      "3           11.2              0.28         0.56             1.9      0.075   \n",
      "4            7.4              0.70         0.00             1.9      0.076   \n",
      "\n",
      "   free sulfur dioxide  total sulfur dioxide  density    pH  sulphates  \\\n",
      "0                 11.0                  34.0   0.9978  3.51       0.56   \n",
      "1                 25.0                  67.0   0.9968  3.20       0.68   \n",
      "2                 15.0                  54.0   0.9970  3.26       0.65   \n",
      "3                 17.0                  60.0   0.9980  3.16       0.58   \n",
      "4                 11.0                  34.0   0.9978  3.51       0.56   \n",
      "\n",
      "   alcohol  quality  \n",
      "0      9.4        5  \n",
      "1      9.8        5  \n",
      "2      9.8        5  \n",
      "3      9.8        6  \n",
      "4      9.4        5  \n"
     ]
    }
   ],
   "source": [
    "# Display the first few rows of the red wine\n",
    "print(red_wine_df.head())"
   ]
  },
  {
   "cell_type": "code",
   "execution_count": 21,
   "metadata": {},
   "outputs": [
    {
     "name": "stdout",
     "output_type": "stream",
     "text": [
      "   fixed acidity  volatile acidity  citric acid  residual sugar  chlorides  \\\n",
      "0            7.0              0.27         0.36            20.7      0.045   \n",
      "1            6.3              0.30         0.34             1.6      0.049   \n",
      "2            8.1              0.28         0.40             6.9      0.050   \n",
      "3            7.2              0.23         0.32             8.5      0.058   \n",
      "4            7.2              0.23         0.32             8.5      0.058   \n",
      "\n",
      "   free sulfur dioxide  total sulfur dioxide  density    pH  sulphates  \\\n",
      "0                 45.0                 170.0   1.0010  3.00       0.45   \n",
      "1                 14.0                 132.0   0.9940  3.30       0.49   \n",
      "2                 30.0                  97.0   0.9951  3.26       0.44   \n",
      "3                 47.0                 186.0   0.9956  3.19       0.40   \n",
      "4                 47.0                 186.0   0.9956  3.19       0.40   \n",
      "\n",
      "   alcohol  quality  \n",
      "0      8.8        6  \n",
      "1      9.5        6  \n",
      "2     10.1        6  \n",
      "3      9.9        6  \n",
      "4      9.9        6  \n"
     ]
    }
   ],
   "source": [
    "# Display the first few rows of the red wine\n",
    "print(white_wine_df.head())"
   ]
  },
  {
   "cell_type": "markdown",
   "metadata": {},
   "source": [
    "In the article they indicate that the dataset contains 4898 samples: \"The dataset contains the records of 4898 random samples of wine manufactured.\"\n",
    "This does not match the number of samples in the redwine dataset. This matches the number of samples in the whitewine dataset."
   ]
  },
  {
   "cell_type": "code",
   "execution_count": 22,
   "metadata": {},
   "outputs": [
    {
     "data": {
      "text/plain": [
       "1599"
      ]
     },
     "execution_count": 22,
     "metadata": {},
     "output_type": "execute_result"
    }
   ],
   "source": [
    "len(red_wine_df)"
   ]
  },
  {
   "cell_type": "code",
   "execution_count": 23,
   "metadata": {},
   "outputs": [
    {
     "data": {
      "text/plain": [
       "4898"
      ]
     },
     "execution_count": 23,
     "metadata": {},
     "output_type": "execute_result"
    }
   ],
   "source": [
    "len(white_wine_df)"
   ]
  },
  {
   "cell_type": "markdown",
   "metadata": {},
   "source": [
    "Also the statistics of table 1 in the article \"Descriptive statistics of the variables of the redwine data.\" agree with the statistics of the white wine, except for incorrect rounding."
   ]
  },
  {
   "cell_type": "code",
   "execution_count": 24,
   "metadata": {},
   "outputs": [
    {
     "name": "stdout",
     "output_type": "stream",
     "text": [
      "                        mean     std    min      max  median\n",
      "fixed acidity          8.320   1.741  4.600   15.900   7.900\n",
      "volatile acidity       0.528   0.179  0.120    1.580   0.520\n",
      "citric acid            0.271   0.195  0.000    1.000   0.260\n",
      "residual sugar         2.539   1.410  0.900   15.500   2.200\n",
      "chlorides              0.087   0.047  0.012    0.611   0.079\n",
      "free sulfur dioxide   15.875  10.460  1.000   72.000  14.000\n",
      "total sulfur dioxide  46.468  32.895  6.000  289.000  38.000\n",
      "density                0.997   0.002  0.990    1.004   0.997\n",
      "pH                     3.311   0.154  2.740    4.010   3.310\n",
      "sulphates              0.658   0.170  0.330    2.000   0.620\n",
      "alcohol               10.423   1.066  8.400   14.900  10.200\n",
      "quality                5.636   0.808  3.000    8.000   6.000\n"
     ]
    }
   ],
   "source": [
    "# Calculate the required statistics\n",
    "statistics = red_wine_df.describe().T[['mean', 'std', 'min', 'max']]\n",
    "statistics['median'] = red_wine_df.median()\n",
    "\n",
    "# Display the statistics\n",
    "print(statistics.round(3))\n"
   ]
  },
  {
   "cell_type": "code",
   "execution_count": 25,
   "metadata": {},
   "outputs": [
    {
     "name": "stdout",
     "output_type": "stream",
     "text": [
      "                         mean     std    min      max   median\n",
      "fixed acidity           6.855   0.844  3.800   14.200    6.800\n",
      "volatile acidity        0.278   0.101  0.080    1.100    0.260\n",
      "citric acid             0.334   0.121  0.000    1.660    0.320\n",
      "residual sugar          6.391   5.072  0.600   65.800    5.200\n",
      "chlorides               0.046   0.022  0.009    0.346    0.043\n",
      "free sulfur dioxide    35.308  17.007  2.000  289.000   34.000\n",
      "total sulfur dioxide  138.361  42.498  9.000  440.000  134.000\n",
      "density                 0.994   0.003  0.987    1.039    0.994\n",
      "pH                      3.188   0.151  2.720    3.820    3.180\n",
      "sulphates               0.490   0.114  0.220    1.080    0.470\n",
      "alcohol                10.514   1.231  8.000   14.200   10.400\n",
      "quality                 5.878   0.886  3.000    9.000    6.000\n"
     ]
    }
   ],
   "source": [
    "# Calculate the required statistics\n",
    "statistics = white_wine_df.describe().T[['mean', 'std', 'min', 'max']]\n",
    "statistics['median'] = white_wine_df.median()\n",
    "\n",
    "# Display the statistics\n",
    "print(statistics.round(3))\n"
   ]
  },
  {
   "cell_type": "markdown",
   "metadata": {},
   "source": [
    "Also the correlation of table 2 in the article \"The value of the pearson correlation coefficient (r) of the predictors with respect\n",
    "to the target variable: quality.\" agree with the correlation of the white wine."
   ]
  },
  {
   "cell_type": "code",
   "execution_count": 26,
   "metadata": {},
   "outputs": [
    {
     "name": "stdout",
     "output_type": "stream",
     "text": [
      "fixed acidity           0.124\n",
      "volatile acidity       -0.391\n",
      "citric acid             0.226\n",
      "residual sugar          0.014\n",
      "chlorides              -0.129\n",
      "free sulfur dioxide    -0.051\n",
      "total sulfur dioxide   -0.185\n",
      "density                -0.175\n",
      "pH                     -0.058\n",
      "sulphates               0.251\n",
      "alcohol                 0.476\n",
      "quality                 1.000\n",
      "Name: quality, dtype: float64\n"
     ]
    }
   ],
   "source": [
    "# Calculate the Pearson correlation coefficient (r) of the predictors with respect to the target variable: quality\n",
    "correlation_coefficients = red_wine_df.corr()['quality']\n",
    "\n",
    "# Display the correlation coefficients\n",
    "print(correlation_coefficients.round(3))"
   ]
  },
  {
   "cell_type": "code",
   "execution_count": 27,
   "metadata": {},
   "outputs": [
    {
     "name": "stdout",
     "output_type": "stream",
     "text": [
      "fixed acidity          -0.1137\n",
      "volatile acidity       -0.1947\n",
      "citric acid            -0.0092\n",
      "residual sugar         -0.0976\n",
      "chlorides              -0.2099\n",
      "free sulfur dioxide     0.0082\n",
      "total sulfur dioxide   -0.1747\n",
      "density                -0.3071\n",
      "pH                      0.0994\n",
      "sulphates               0.0537\n",
      "alcohol                 0.4356\n",
      "quality                 1.0000\n",
      "Name: quality, dtype: float64\n"
     ]
    }
   ],
   "source": [
    "# Calculate the Pearson correlation coefficient (r) of the predictors with respect to the target variable: quality\n",
    "correlation_coefficients = white_wine_df.corr()['quality']\n",
    "\n",
    "# Display the correlation coefficients\n",
    "print(correlation_coefficients.round(4))\n"
   ]
  }
 ],
 "metadata": {
  "kernelspec": {
   "display_name": "base",
   "language": "python",
   "name": "python3"
  },
  "language_info": {
   "codemirror_mode": {
    "name": "ipython",
    "version": 3
   },
   "file_extension": ".py",
   "mimetype": "text/x-python",
   "name": "python",
   "nbconvert_exporter": "python",
   "pygments_lexer": "ipython3",
   "version": "3.11.7"
  }
 },
 "nbformat": 4,
 "nbformat_minor": 2
}
