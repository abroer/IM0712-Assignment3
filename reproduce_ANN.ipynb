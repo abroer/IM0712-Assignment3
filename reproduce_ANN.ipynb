{
 "cells": [
  {
   "metadata": {},
   "cell_type": "markdown",
   "source": "The article \"prediction of Wine Quality Using Machine Learning\" states that it used the red wine dataset. Paragraph 2.1 mentions that the dataset contains 4898 entries. When examing the datasets, this number corresponds to the white wine dataset. This confusion in consistent throughout the article. From this point on the white wine dataset will be used, eventhough the article states that the red wine dataset is used.",
   "id": "75e54348c56bccb4"
  },
  {
   "metadata": {
    "ExecuteTime": {
     "end_time": "2025-04-04T20:52:12.276572Z",
     "start_time": "2025-04-04T20:52:12.269915Z"
    }
   },
   "cell_type": "code",
   "source": [
    "from xml.sax.handler import feature_string_interning\n",
    "\n",
    "# used libraries\n",
    "import pandas as pd\n",
    "from sklearn.preprocessing import StandardScaler\n",
    "from sklearn.model_selection import train_test_split\n",
    "from keras.models import Sequential\n",
    "from keras.layers import Dense, Input\n"
   ],
   "id": "589ed18d32af467f",
   "outputs": [],
   "execution_count": 40
  },
  {
   "metadata": {
    "ExecuteTime": {
     "end_time": "2025-04-04T20:52:12.301929Z",
     "start_time": "2025-04-04T20:52:12.284605Z"
    }
   },
   "cell_type": "code",
   "source": [
    "#import the winequality dataset\n",
    "\n",
    "# Define the relative path to the CSV file\n",
    "relative_path = 'wine+quality/winequality-white.csv'\n",
    "# Read the CSV file using pandas\n",
    "wine_df = pd.read_csv(relative_path, delimiter=';')\n",
    "\n",
    "features = wine_df.drop('quality', axis=1)\n",
    "target = wine_df['quality']\n",
    "\n",
    "len(features)\n"
   ],
   "id": "f2b2c56e79607620",
   "outputs": [
    {
     "data": {
      "text/plain": [
       "4898"
      ]
     },
     "execution_count": 41,
     "metadata": {},
     "output_type": "execute_result"
    }
   ],
   "execution_count": 41
  },
  {
   "metadata": {},
   "cell_type": "markdown",
   "source": "Feature scaling was applied using standardization. Following code standardizes the dataset.",
   "id": "ce503e930553211e"
  },
  {
   "metadata": {
    "ExecuteTime": {
     "end_time": "2025-04-04T20:52:12.354568Z",
     "start_time": "2025-04-04T20:52:12.335638Z"
    }
   },
   "cell_type": "code",
   "source": [
    "scaler = StandardScaler()\n",
    "\n",
    "features_scaled = scaler.fit_transform(features)\n",
    "\n",
    "feature_scaled_df = pd.DataFrame(features_scaled, columns=features.columns)\n",
    "feature_scaled_df"
   ],
   "id": "772b0e88e0800a59",
   "outputs": [
    {
     "data": {
      "text/plain": [
       "      fixed acidity  volatile acidity  citric acid  residual sugar  chlorides  \\\n",
       "0          0.172097         -0.081770     0.213280        2.821349  -0.035355   \n",
       "1         -0.657501          0.215896     0.048001       -0.944765   0.147747   \n",
       "2          1.475751          0.017452     0.543838        0.100282   0.193523   \n",
       "3          0.409125         -0.478657    -0.117278        0.415768   0.559727   \n",
       "4          0.409125         -0.478657    -0.117278        0.415768   0.559727   \n",
       "...             ...               ...          ...             ...        ...   \n",
       "4893      -0.776015         -0.677101    -0.365197       -0.944765  -0.310008   \n",
       "4894      -0.301959          0.414339     0.213280        0.317179   0.056196   \n",
       "4895      -0.420473         -0.379435    -1.191592       -1.023637  -0.218457   \n",
       "4896      -1.605613          0.116674    -0.282557       -1.043355  -1.088192   \n",
       "4897      -1.013043         -0.677101     0.378559       -1.102508  -1.179743   \n",
       "\n",
       "      free sulfur dioxide  total sulfur dioxide   density        pH  \\\n",
       "0                0.569932              0.744565  2.331512 -1.246921   \n",
       "1               -1.253019             -0.149685 -0.009154  0.740029   \n",
       "2               -0.312141             -0.973336  0.358665  0.475102   \n",
       "3                0.687541              1.121091  0.525855  0.011480   \n",
       "4                0.687541              1.121091  0.525855  0.011480   \n",
       "...                   ...                   ...       ...       ...   \n",
       "4893            -0.664970             -1.091000 -0.965483  0.541334   \n",
       "4894             1.275590              0.697499  0.291789 -0.253446   \n",
       "4895            -0.312141             -0.643875 -0.497350 -1.313153   \n",
       "4896            -0.900190             -0.667408 -1.784717  1.004955   \n",
       "4897            -0.782580             -0.949803 -1.543962  0.475102   \n",
       "\n",
       "      sulphates   alcohol  \n",
       "0     -0.349184 -1.393152  \n",
       "1      0.001342 -0.824276  \n",
       "2     -0.436816 -0.336667  \n",
       "3     -0.787342 -0.499203  \n",
       "4     -0.787342 -0.499203  \n",
       "...         ...       ...  \n",
       "4893   0.088973  0.557282  \n",
       "4894  -0.261553 -0.743008  \n",
       "4895  -0.261553 -0.905544  \n",
       "4896  -0.962605  1.857572  \n",
       "4897  -1.488394  1.044891  \n",
       "\n",
       "[4898 rows x 11 columns]"
      ],
      "text/html": [
       "<div>\n",
       "<style scoped>\n",
       "    .dataframe tbody tr th:only-of-type {\n",
       "        vertical-align: middle;\n",
       "    }\n",
       "\n",
       "    .dataframe tbody tr th {\n",
       "        vertical-align: top;\n",
       "    }\n",
       "\n",
       "    .dataframe thead th {\n",
       "        text-align: right;\n",
       "    }\n",
       "</style>\n",
       "<table border=\"1\" class=\"dataframe\">\n",
       "  <thead>\n",
       "    <tr style=\"text-align: right;\">\n",
       "      <th></th>\n",
       "      <th>fixed acidity</th>\n",
       "      <th>volatile acidity</th>\n",
       "      <th>citric acid</th>\n",
       "      <th>residual sugar</th>\n",
       "      <th>chlorides</th>\n",
       "      <th>free sulfur dioxide</th>\n",
       "      <th>total sulfur dioxide</th>\n",
       "      <th>density</th>\n",
       "      <th>pH</th>\n",
       "      <th>sulphates</th>\n",
       "      <th>alcohol</th>\n",
       "    </tr>\n",
       "  </thead>\n",
       "  <tbody>\n",
       "    <tr>\n",
       "      <th>0</th>\n",
       "      <td>0.172097</td>\n",
       "      <td>-0.081770</td>\n",
       "      <td>0.213280</td>\n",
       "      <td>2.821349</td>\n",
       "      <td>-0.035355</td>\n",
       "      <td>0.569932</td>\n",
       "      <td>0.744565</td>\n",
       "      <td>2.331512</td>\n",
       "      <td>-1.246921</td>\n",
       "      <td>-0.349184</td>\n",
       "      <td>-1.393152</td>\n",
       "    </tr>\n",
       "    <tr>\n",
       "      <th>1</th>\n",
       "      <td>-0.657501</td>\n",
       "      <td>0.215896</td>\n",
       "      <td>0.048001</td>\n",
       "      <td>-0.944765</td>\n",
       "      <td>0.147747</td>\n",
       "      <td>-1.253019</td>\n",
       "      <td>-0.149685</td>\n",
       "      <td>-0.009154</td>\n",
       "      <td>0.740029</td>\n",
       "      <td>0.001342</td>\n",
       "      <td>-0.824276</td>\n",
       "    </tr>\n",
       "    <tr>\n",
       "      <th>2</th>\n",
       "      <td>1.475751</td>\n",
       "      <td>0.017452</td>\n",
       "      <td>0.543838</td>\n",
       "      <td>0.100282</td>\n",
       "      <td>0.193523</td>\n",
       "      <td>-0.312141</td>\n",
       "      <td>-0.973336</td>\n",
       "      <td>0.358665</td>\n",
       "      <td>0.475102</td>\n",
       "      <td>-0.436816</td>\n",
       "      <td>-0.336667</td>\n",
       "    </tr>\n",
       "    <tr>\n",
       "      <th>3</th>\n",
       "      <td>0.409125</td>\n",
       "      <td>-0.478657</td>\n",
       "      <td>-0.117278</td>\n",
       "      <td>0.415768</td>\n",
       "      <td>0.559727</td>\n",
       "      <td>0.687541</td>\n",
       "      <td>1.121091</td>\n",
       "      <td>0.525855</td>\n",
       "      <td>0.011480</td>\n",
       "      <td>-0.787342</td>\n",
       "      <td>-0.499203</td>\n",
       "    </tr>\n",
       "    <tr>\n",
       "      <th>4</th>\n",
       "      <td>0.409125</td>\n",
       "      <td>-0.478657</td>\n",
       "      <td>-0.117278</td>\n",
       "      <td>0.415768</td>\n",
       "      <td>0.559727</td>\n",
       "      <td>0.687541</td>\n",
       "      <td>1.121091</td>\n",
       "      <td>0.525855</td>\n",
       "      <td>0.011480</td>\n",
       "      <td>-0.787342</td>\n",
       "      <td>-0.499203</td>\n",
       "    </tr>\n",
       "    <tr>\n",
       "      <th>...</th>\n",
       "      <td>...</td>\n",
       "      <td>...</td>\n",
       "      <td>...</td>\n",
       "      <td>...</td>\n",
       "      <td>...</td>\n",
       "      <td>...</td>\n",
       "      <td>...</td>\n",
       "      <td>...</td>\n",
       "      <td>...</td>\n",
       "      <td>...</td>\n",
       "      <td>...</td>\n",
       "    </tr>\n",
       "    <tr>\n",
       "      <th>4893</th>\n",
       "      <td>-0.776015</td>\n",
       "      <td>-0.677101</td>\n",
       "      <td>-0.365197</td>\n",
       "      <td>-0.944765</td>\n",
       "      <td>-0.310008</td>\n",
       "      <td>-0.664970</td>\n",
       "      <td>-1.091000</td>\n",
       "      <td>-0.965483</td>\n",
       "      <td>0.541334</td>\n",
       "      <td>0.088973</td>\n",
       "      <td>0.557282</td>\n",
       "    </tr>\n",
       "    <tr>\n",
       "      <th>4894</th>\n",
       "      <td>-0.301959</td>\n",
       "      <td>0.414339</td>\n",
       "      <td>0.213280</td>\n",
       "      <td>0.317179</td>\n",
       "      <td>0.056196</td>\n",
       "      <td>1.275590</td>\n",
       "      <td>0.697499</td>\n",
       "      <td>0.291789</td>\n",
       "      <td>-0.253446</td>\n",
       "      <td>-0.261553</td>\n",
       "      <td>-0.743008</td>\n",
       "    </tr>\n",
       "    <tr>\n",
       "      <th>4895</th>\n",
       "      <td>-0.420473</td>\n",
       "      <td>-0.379435</td>\n",
       "      <td>-1.191592</td>\n",
       "      <td>-1.023637</td>\n",
       "      <td>-0.218457</td>\n",
       "      <td>-0.312141</td>\n",
       "      <td>-0.643875</td>\n",
       "      <td>-0.497350</td>\n",
       "      <td>-1.313153</td>\n",
       "      <td>-0.261553</td>\n",
       "      <td>-0.905544</td>\n",
       "    </tr>\n",
       "    <tr>\n",
       "      <th>4896</th>\n",
       "      <td>-1.605613</td>\n",
       "      <td>0.116674</td>\n",
       "      <td>-0.282557</td>\n",
       "      <td>-1.043355</td>\n",
       "      <td>-1.088192</td>\n",
       "      <td>-0.900190</td>\n",
       "      <td>-0.667408</td>\n",
       "      <td>-1.784717</td>\n",
       "      <td>1.004955</td>\n",
       "      <td>-0.962605</td>\n",
       "      <td>1.857572</td>\n",
       "    </tr>\n",
       "    <tr>\n",
       "      <th>4897</th>\n",
       "      <td>-1.013043</td>\n",
       "      <td>-0.677101</td>\n",
       "      <td>0.378559</td>\n",
       "      <td>-1.102508</td>\n",
       "      <td>-1.179743</td>\n",
       "      <td>-0.782580</td>\n",
       "      <td>-0.949803</td>\n",
       "      <td>-1.543962</td>\n",
       "      <td>0.475102</td>\n",
       "      <td>-1.488394</td>\n",
       "      <td>1.044891</td>\n",
       "    </tr>\n",
       "  </tbody>\n",
       "</table>\n",
       "<p>4898 rows × 11 columns</p>\n",
       "</div>"
      ]
     },
     "execution_count": 42,
     "metadata": {},
     "output_type": "execute_result"
    }
   ],
   "execution_count": 42
  },
  {
   "metadata": {},
   "cell_type": "markdown",
   "source": "Create the train, validation and test set from the original data set",
   "id": "c040c434f4e3623"
  },
  {
   "metadata": {
    "ExecuteTime": {
     "end_time": "2025-04-04T20:52:12.435398Z",
     "start_time": "2025-04-04T20:52:12.428509Z"
    }
   },
   "cell_type": "code",
   "source": [
    "features_train, features_temp, target_train, target_temp = train_test_split(features_scaled, target, test_size=0.4, random_state=1)\n",
    "\n",
    "features_test, features_validate, target_test, target_validate = train_test_split(features_temp, target_temp, test_size=0.5, random_state=1)\n"
   ],
   "id": "952a9fe83aaf8d81",
   "outputs": [],
   "execution_count": 43
  },
  {
   "metadata": {},
   "cell_type": "markdown",
   "source": [
    "Create a ANN model with:\n",
    "- 1 input layer with 11 neurons\n",
    "- 3 hidden layers with 15 neurons\n",
    "- 1 output layer with 1 neuron"
   ],
   "id": "726c2693f7ab3f4a"
  },
  {
   "metadata": {
    "ExecuteTime": {
     "end_time": "2025-04-04T21:10:04.769510Z",
     "start_time": "2025-04-04T21:10:04.701385Z"
    }
   },
   "cell_type": "code",
   "source": [
    "model = Sequential()\n",
    "model.add(Input(shape=(11,))) # input layer\n",
    "model.add(Dense(15, activation='relu')) # first hidden layer\n",
    "model.add(Dense(15, activation='relu')) # second hidden layer\n",
    "model.add(Dense(15, activation='relu')) # third hidden layer\n",
    "model.add(Dense(1, activation='linear'))\n",
    "\n",
    "model.compile(loss='mse', optimizer='adam', metrics=['mean_squared_error', 'mean_absolute_error', 'mean_absolute_percentage_error'])\n",
    "\n",
    "model.summary()"
   ],
   "id": "a8a03c385920b3de",
   "outputs": [
    {
     "data": {
      "text/plain": [
       "\u001B[1mModel: \"sequential_5\"\u001B[0m\n"
      ],
      "text/html": [
       "<pre style=\"white-space:pre;overflow-x:auto;line-height:normal;font-family:Menlo,'DejaVu Sans Mono',consolas,'Courier New',monospace\"><span style=\"font-weight: bold\">Model: \"sequential_5\"</span>\n",
       "</pre>\n"
      ]
     },
     "metadata": {},
     "output_type": "display_data"
    },
    {
     "data": {
      "text/plain": [
       "┏━━━━━━━━━━━━━━━━━━━━━━━━━━━━━━━━━┳━━━━━━━━━━━━━━━━━━━━━━━━┳━━━━━━━━━━━━━━━┓\n",
       "┃\u001B[1m \u001B[0m\u001B[1mLayer (type)                   \u001B[0m\u001B[1m \u001B[0m┃\u001B[1m \u001B[0m\u001B[1mOutput Shape          \u001B[0m\u001B[1m \u001B[0m┃\u001B[1m \u001B[0m\u001B[1m      Param #\u001B[0m\u001B[1m \u001B[0m┃\n",
       "┡━━━━━━━━━━━━━━━━━━━━━━━━━━━━━━━━━╇━━━━━━━━━━━━━━━━━━━━━━━━╇━━━━━━━━━━━━━━━┩\n",
       "│ dense_16 (\u001B[38;5;33mDense\u001B[0m)                │ (\u001B[38;5;45mNone\u001B[0m, \u001B[38;5;34m15\u001B[0m)             │           \u001B[38;5;34m180\u001B[0m │\n",
       "├─────────────────────────────────┼────────────────────────┼───────────────┤\n",
       "│ dense_17 (\u001B[38;5;33mDense\u001B[0m)                │ (\u001B[38;5;45mNone\u001B[0m, \u001B[38;5;34m15\u001B[0m)             │           \u001B[38;5;34m240\u001B[0m │\n",
       "├─────────────────────────────────┼────────────────────────┼───────────────┤\n",
       "│ dense_18 (\u001B[38;5;33mDense\u001B[0m)                │ (\u001B[38;5;45mNone\u001B[0m, \u001B[38;5;34m15\u001B[0m)             │           \u001B[38;5;34m240\u001B[0m │\n",
       "├─────────────────────────────────┼────────────────────────┼───────────────┤\n",
       "│ dense_19 (\u001B[38;5;33mDense\u001B[0m)                │ (\u001B[38;5;45mNone\u001B[0m, \u001B[38;5;34m1\u001B[0m)              │            \u001B[38;5;34m16\u001B[0m │\n",
       "└─────────────────────────────────┴────────────────────────┴───────────────┘\n"
      ],
      "text/html": [
       "<pre style=\"white-space:pre;overflow-x:auto;line-height:normal;font-family:Menlo,'DejaVu Sans Mono',consolas,'Courier New',monospace\">┏━━━━━━━━━━━━━━━━━━━━━━━━━━━━━━━━━┳━━━━━━━━━━━━━━━━━━━━━━━━┳━━━━━━━━━━━━━━━┓\n",
       "┃<span style=\"font-weight: bold\"> Layer (type)                    </span>┃<span style=\"font-weight: bold\"> Output Shape           </span>┃<span style=\"font-weight: bold\">       Param # </span>┃\n",
       "┡━━━━━━━━━━━━━━━━━━━━━━━━━━━━━━━━━╇━━━━━━━━━━━━━━━━━━━━━━━━╇━━━━━━━━━━━━━━━┩\n",
       "│ dense_16 (<span style=\"color: #0087ff; text-decoration-color: #0087ff\">Dense</span>)                │ (<span style=\"color: #00d7ff; text-decoration-color: #00d7ff\">None</span>, <span style=\"color: #00af00; text-decoration-color: #00af00\">15</span>)             │           <span style=\"color: #00af00; text-decoration-color: #00af00\">180</span> │\n",
       "├─────────────────────────────────┼────────────────────────┼───────────────┤\n",
       "│ dense_17 (<span style=\"color: #0087ff; text-decoration-color: #0087ff\">Dense</span>)                │ (<span style=\"color: #00d7ff; text-decoration-color: #00d7ff\">None</span>, <span style=\"color: #00af00; text-decoration-color: #00af00\">15</span>)             │           <span style=\"color: #00af00; text-decoration-color: #00af00\">240</span> │\n",
       "├─────────────────────────────────┼────────────────────────┼───────────────┤\n",
       "│ dense_18 (<span style=\"color: #0087ff; text-decoration-color: #0087ff\">Dense</span>)                │ (<span style=\"color: #00d7ff; text-decoration-color: #00d7ff\">None</span>, <span style=\"color: #00af00; text-decoration-color: #00af00\">15</span>)             │           <span style=\"color: #00af00; text-decoration-color: #00af00\">240</span> │\n",
       "├─────────────────────────────────┼────────────────────────┼───────────────┤\n",
       "│ dense_19 (<span style=\"color: #0087ff; text-decoration-color: #0087ff\">Dense</span>)                │ (<span style=\"color: #00d7ff; text-decoration-color: #00d7ff\">None</span>, <span style=\"color: #00af00; text-decoration-color: #00af00\">1</span>)              │            <span style=\"color: #00af00; text-decoration-color: #00af00\">16</span> │\n",
       "└─────────────────────────────────┴────────────────────────┴───────────────┘\n",
       "</pre>\n"
      ]
     },
     "metadata": {},
     "output_type": "display_data"
    },
    {
     "data": {
      "text/plain": [
       "\u001B[1m Total params: \u001B[0m\u001B[38;5;34m676\u001B[0m (2.64 KB)\n"
      ],
      "text/html": [
       "<pre style=\"white-space:pre;overflow-x:auto;line-height:normal;font-family:Menlo,'DejaVu Sans Mono',consolas,'Courier New',monospace\"><span style=\"font-weight: bold\"> Total params: </span><span style=\"color: #00af00; text-decoration-color: #00af00\">676</span> (2.64 KB)\n",
       "</pre>\n"
      ]
     },
     "metadata": {},
     "output_type": "display_data"
    },
    {
     "data": {
      "text/plain": [
       "\u001B[1m Trainable params: \u001B[0m\u001B[38;5;34m676\u001B[0m (2.64 KB)\n"
      ],
      "text/html": [
       "<pre style=\"white-space:pre;overflow-x:auto;line-height:normal;font-family:Menlo,'DejaVu Sans Mono',consolas,'Courier New',monospace\"><span style=\"font-weight: bold\"> Trainable params: </span><span style=\"color: #00af00; text-decoration-color: #00af00\">676</span> (2.64 KB)\n",
       "</pre>\n"
      ]
     },
     "metadata": {},
     "output_type": "display_data"
    },
    {
     "data": {
      "text/plain": [
       "\u001B[1m Non-trainable params: \u001B[0m\u001B[38;5;34m0\u001B[0m (0.00 B)\n"
      ],
      "text/html": [
       "<pre style=\"white-space:pre;overflow-x:auto;line-height:normal;font-family:Menlo,'DejaVu Sans Mono',consolas,'Courier New',monospace\"><span style=\"font-weight: bold\"> Non-trainable params: </span><span style=\"color: #00af00; text-decoration-color: #00af00\">0</span> (0.00 B)\n",
       "</pre>\n"
      ]
     },
     "metadata": {},
     "output_type": "display_data"
    }
   ],
   "execution_count": 48
  },
  {
   "metadata": {
    "ExecuteTime": {
     "end_time": "2025-04-04T21:10:20.416908Z",
     "start_time": "2025-04-04T21:10:09.830864Z"
    }
   },
   "cell_type": "code",
   "source": [
    "history = model.fit(features_train, target_train, epochs=50, batch_size=32, validation_data=(features_validate, target_validate), verbose=1)\n",
    "\n",
    "print(history.history)"
   ],
   "id": "846124d0e3968faa",
   "outputs": [
    {
     "name": "stdout",
     "output_type": "stream",
     "text": [
      "Epoch 1/50\n",
      "\u001B[1m92/92\u001B[0m \u001B[32m━━━━━━━━━━━━━━━━━━━━\u001B[0m\u001B[37m\u001B[0m \u001B[1m2s\u001B[0m 4ms/step - loss: 24.7936 - mean_absolute_error: 4.8040 - mean_absolute_percentage_error: 81.4037 - mean_squared_error: 24.7936 - val_loss: 3.8640 - val_mean_absolute_error: 1.6010 - val_mean_absolute_percentage_error: 27.7497 - val_mean_squared_error: 3.8640\n",
      "Epoch 2/50\n",
      "\u001B[1m92/92\u001B[0m \u001B[32m━━━━━━━━━━━━━━━━━━━━\u001B[0m\u001B[37m\u001B[0m \u001B[1m0s\u001B[0m 3ms/step - loss: 3.8355 - mean_absolute_error: 1.5068 - mean_absolute_percentage_error: 26.4881 - mean_squared_error: 3.8355 - val_loss: 2.5622 - val_mean_absolute_error: 1.2667 - val_mean_absolute_percentage_error: 22.0717 - val_mean_squared_error: 2.5622\n",
      "Epoch 3/50\n",
      "\u001B[1m92/92\u001B[0m \u001B[32m━━━━━━━━━━━━━━━━━━━━\u001B[0m\u001B[37m\u001B[0m \u001B[1m0s\u001B[0m 4ms/step - loss: 2.7375 - mean_absolute_error: 1.2514 - mean_absolute_percentage_error: 22.2872 - mean_squared_error: 2.7375 - val_loss: 1.8884 - val_mean_absolute_error: 1.0952 - val_mean_absolute_percentage_error: 18.9529 - val_mean_squared_error: 1.8884\n",
      "Epoch 4/50\n",
      "\u001B[1m92/92\u001B[0m \u001B[32m━━━━━━━━━━━━━━━━━━━━\u001B[0m\u001B[37m\u001B[0m \u001B[1m0s\u001B[0m 3ms/step - loss: 1.9304 - mean_absolute_error: 1.0761 - mean_absolute_percentage_error: 19.0199 - mean_squared_error: 1.9304 - val_loss: 1.5100 - val_mean_absolute_error: 0.9768 - val_mean_absolute_percentage_error: 16.9382 - val_mean_squared_error: 1.5100\n",
      "Epoch 5/50\n",
      "\u001B[1m92/92\u001B[0m \u001B[32m━━━━━━━━━━━━━━━━━━━━\u001B[0m\u001B[37m\u001B[0m \u001B[1m0s\u001B[0m 2ms/step - loss: 1.5021 - mean_absolute_error: 0.9640 - mean_absolute_percentage_error: 16.9809 - mean_squared_error: 1.5021 - val_loss: 1.2644 - val_mean_absolute_error: 0.8933 - val_mean_absolute_percentage_error: 15.4586 - val_mean_squared_error: 1.2644\n",
      "Epoch 6/50\n",
      "\u001B[1m92/92\u001B[0m \u001B[32m━━━━━━━━━━━━━━━━━━━━\u001B[0m\u001B[37m\u001B[0m \u001B[1m0s\u001B[0m 2ms/step - loss: 1.5710 - mean_absolute_error: 0.9225 - mean_absolute_percentage_error: 16.6435 - mean_squared_error: 1.5710 - val_loss: 1.0882 - val_mean_absolute_error: 0.8284 - val_mean_absolute_percentage_error: 14.4686 - val_mean_squared_error: 1.0882\n",
      "Epoch 7/50\n",
      "\u001B[1m92/92\u001B[0m \u001B[32m━━━━━━━━━━━━━━━━━━━━\u001B[0m\u001B[37m\u001B[0m \u001B[1m0s\u001B[0m 2ms/step - loss: 1.2404 - mean_absolute_error: 0.8189 - mean_absolute_percentage_error: 14.8452 - mean_squared_error: 1.2404 - val_loss: 0.9259 - val_mean_absolute_error: 0.7664 - val_mean_absolute_percentage_error: 13.2766 - val_mean_squared_error: 0.9259\n",
      "Epoch 8/50\n",
      "\u001B[1m92/92\u001B[0m \u001B[32m━━━━━━━━━━━━━━━━━━━━\u001B[0m\u001B[37m\u001B[0m \u001B[1m0s\u001B[0m 2ms/step - loss: 0.9311 - mean_absolute_error: 0.7484 - mean_absolute_percentage_error: 13.1886 - mean_squared_error: 0.9311 - val_loss: 0.8123 - val_mean_absolute_error: 0.7173 - val_mean_absolute_percentage_error: 12.3973 - val_mean_squared_error: 0.8123\n",
      "Epoch 9/50\n",
      "\u001B[1m92/92\u001B[0m \u001B[32m━━━━━━━━━━━━━━━━━━━━\u001B[0m\u001B[37m\u001B[0m \u001B[1m0s\u001B[0m 2ms/step - loss: 0.8120 - mean_absolute_error: 0.7017 - mean_absolute_percentage_error: 12.3319 - mean_squared_error: 0.8120 - val_loss: 0.7398 - val_mean_absolute_error: 0.6824 - val_mean_absolute_percentage_error: 11.8968 - val_mean_squared_error: 0.7398\n",
      "Epoch 10/50\n",
      "\u001B[1m92/92\u001B[0m \u001B[32m━━━━━━━━━━━━━━━━━━━━\u001B[0m\u001B[37m\u001B[0m \u001B[1m0s\u001B[0m 2ms/step - loss: 0.7016 - mean_absolute_error: 0.6513 - mean_absolute_percentage_error: 11.3799 - mean_squared_error: 0.7016 - val_loss: 0.6912 - val_mean_absolute_error: 0.6587 - val_mean_absolute_percentage_error: 11.4477 - val_mean_squared_error: 0.6912\n",
      "Epoch 11/50\n",
      "\u001B[1m92/92\u001B[0m \u001B[32m━━━━━━━━━━━━━━━━━━━━\u001B[0m\u001B[37m\u001B[0m \u001B[1m0s\u001B[0m 2ms/step - loss: 0.7693 - mean_absolute_error: 0.6623 - mean_absolute_percentage_error: 11.5699 - mean_squared_error: 0.7693 - val_loss: 0.6583 - val_mean_absolute_error: 0.6450 - val_mean_absolute_percentage_error: 11.3644 - val_mean_squared_error: 0.6583\n",
      "Epoch 12/50\n",
      "\u001B[1m92/92\u001B[0m \u001B[32m━━━━━━━━━━━━━━━━━━━━\u001B[0m\u001B[37m\u001B[0m \u001B[1m0s\u001B[0m 2ms/step - loss: 0.6298 - mean_absolute_error: 0.6102 - mean_absolute_percentage_error: 10.7401 - mean_squared_error: 0.6298 - val_loss: 0.6463 - val_mean_absolute_error: 0.6407 - val_mean_absolute_percentage_error: 11.3628 - val_mean_squared_error: 0.6463\n",
      "Epoch 13/50\n",
      "\u001B[1m92/92\u001B[0m \u001B[32m━━━━━━━━━━━━━━━━━━━━\u001B[0m\u001B[37m\u001B[0m \u001B[1m0s\u001B[0m 2ms/step - loss: 0.6565 - mean_absolute_error: 0.6160 - mean_absolute_percentage_error: 10.9989 - mean_squared_error: 0.6565 - val_loss: 0.6066 - val_mean_absolute_error: 0.6216 - val_mean_absolute_percentage_error: 10.8616 - val_mean_squared_error: 0.6066\n",
      "Epoch 14/50\n",
      "\u001B[1m92/92\u001B[0m \u001B[32m━━━━━━━━━━━━━━━━━━━━\u001B[0m\u001B[37m\u001B[0m \u001B[1m0s\u001B[0m 2ms/step - loss: 0.5956 - mean_absolute_error: 0.6036 - mean_absolute_percentage_error: 10.6791 - mean_squared_error: 0.5956 - val_loss: 0.5871 - val_mean_absolute_error: 0.6124 - val_mean_absolute_percentage_error: 10.7297 - val_mean_squared_error: 0.5871\n",
      "Epoch 15/50\n",
      "\u001B[1m92/92\u001B[0m \u001B[32m━━━━━━━━━━━━━━━━━━━━\u001B[0m\u001B[37m\u001B[0m \u001B[1m0s\u001B[0m 2ms/step - loss: 0.5840 - mean_absolute_error: 0.5969 - mean_absolute_percentage_error: 10.4499 - mean_squared_error: 0.5840 - val_loss: 0.5717 - val_mean_absolute_error: 0.6031 - val_mean_absolute_percentage_error: 10.5236 - val_mean_squared_error: 0.5717\n",
      "Epoch 16/50\n",
      "\u001B[1m92/92\u001B[0m \u001B[32m━━━━━━━━━━━━━━━━━━━━\u001B[0m\u001B[37m\u001B[0m \u001B[1m0s\u001B[0m 2ms/step - loss: 0.6158 - mean_absolute_error: 0.6104 - mean_absolute_percentage_error: 10.8658 - mean_squared_error: 0.6158 - val_loss: 0.5603 - val_mean_absolute_error: 0.5987 - val_mean_absolute_percentage_error: 10.4781 - val_mean_squared_error: 0.5603\n",
      "Epoch 17/50\n",
      "\u001B[1m92/92\u001B[0m \u001B[32m━━━━━━━━━━━━━━━━━━━━\u001B[0m\u001B[37m\u001B[0m \u001B[1m0s\u001B[0m 2ms/step - loss: 0.5332 - mean_absolute_error: 0.5701 - mean_absolute_percentage_error: 9.9970 - mean_squared_error: 0.5332 - val_loss: 0.5568 - val_mean_absolute_error: 0.5954 - val_mean_absolute_percentage_error: 10.5188 - val_mean_squared_error: 0.5568\n",
      "Epoch 18/50\n",
      "\u001B[1m92/92\u001B[0m \u001B[32m━━━━━━━━━━━━━━━━━━━━\u001B[0m\u001B[37m\u001B[0m \u001B[1m0s\u001B[0m 2ms/step - loss: 0.5368 - mean_absolute_error: 0.5714 - mean_absolute_percentage_error: 10.0570 - mean_squared_error: 0.5368 - val_loss: 0.5477 - val_mean_absolute_error: 0.5899 - val_mean_absolute_percentage_error: 10.4010 - val_mean_squared_error: 0.5477\n",
      "Epoch 19/50\n",
      "\u001B[1m92/92\u001B[0m \u001B[32m━━━━━━━━━━━━━━━━━━━━\u001B[0m\u001B[37m\u001B[0m \u001B[1m0s\u001B[0m 2ms/step - loss: 0.4941 - mean_absolute_error: 0.5527 - mean_absolute_percentage_error: 9.6403 - mean_squared_error: 0.4941 - val_loss: 0.5445 - val_mean_absolute_error: 0.5879 - val_mean_absolute_percentage_error: 10.2946 - val_mean_squared_error: 0.5445\n",
      "Epoch 20/50\n",
      "\u001B[1m92/92\u001B[0m \u001B[32m━━━━━━━━━━━━━━━━━━━━\u001B[0m\u001B[37m\u001B[0m \u001B[1m0s\u001B[0m 2ms/step - loss: 0.5226 - mean_absolute_error: 0.5608 - mean_absolute_percentage_error: 9.7148 - mean_squared_error: 0.5226 - val_loss: 0.5342 - val_mean_absolute_error: 0.5817 - val_mean_absolute_percentage_error: 10.1775 - val_mean_squared_error: 0.5342\n",
      "Epoch 21/50\n",
      "\u001B[1m92/92\u001B[0m \u001B[32m━━━━━━━━━━━━━━━━━━━━\u001B[0m\u001B[37m\u001B[0m \u001B[1m0s\u001B[0m 1ms/step - loss: 0.5109 - mean_absolute_error: 0.5659 - mean_absolute_percentage_error: 9.8812 - mean_squared_error: 0.5109 - val_loss: 0.5494 - val_mean_absolute_error: 0.5898 - val_mean_absolute_percentage_error: 10.4995 - val_mean_squared_error: 0.5494\n",
      "Epoch 22/50\n",
      "\u001B[1m92/92\u001B[0m \u001B[32m━━━━━━━━━━━━━━━━━━━━\u001B[0m\u001B[37m\u001B[0m \u001B[1m0s\u001B[0m 2ms/step - loss: 0.5037 - mean_absolute_error: 0.5587 - mean_absolute_percentage_error: 9.7295 - mean_squared_error: 0.5037 - val_loss: 0.5421 - val_mean_absolute_error: 0.5847 - val_mean_absolute_percentage_error: 10.3216 - val_mean_squared_error: 0.5421\n",
      "Epoch 23/50\n",
      "\u001B[1m92/92\u001B[0m \u001B[32m━━━━━━━━━━━━━━━━━━━━\u001B[0m\u001B[37m\u001B[0m \u001B[1m0s\u001B[0m 2ms/step - loss: 0.5023 - mean_absolute_error: 0.5605 - mean_absolute_percentage_error: 9.8105 - mean_squared_error: 0.5023 - val_loss: 0.5407 - val_mean_absolute_error: 0.5851 - val_mean_absolute_percentage_error: 10.3931 - val_mean_squared_error: 0.5407\n",
      "Epoch 24/50\n",
      "\u001B[1m92/92\u001B[0m \u001B[32m━━━━━━━━━━━━━━━━━━━━\u001B[0m\u001B[37m\u001B[0m \u001B[1m0s\u001B[0m 2ms/step - loss: 0.5277 - mean_absolute_error: 0.5705 - mean_absolute_percentage_error: 10.0367 - mean_squared_error: 0.5277 - val_loss: 0.5314 - val_mean_absolute_error: 0.5784 - val_mean_absolute_percentage_error: 10.2272 - val_mean_squared_error: 0.5314\n",
      "Epoch 25/50\n",
      "\u001B[1m92/92\u001B[0m \u001B[32m━━━━━━━━━━━━━━━━━━━━\u001B[0m\u001B[37m\u001B[0m \u001B[1m0s\u001B[0m 2ms/step - loss: 0.5180 - mean_absolute_error: 0.5710 - mean_absolute_percentage_error: 10.1252 - mean_squared_error: 0.5180 - val_loss: 0.5339 - val_mean_absolute_error: 0.5813 - val_mean_absolute_percentage_error: 10.3313 - val_mean_squared_error: 0.5339\n",
      "Epoch 26/50\n",
      "\u001B[1m92/92\u001B[0m \u001B[32m━━━━━━━━━━━━━━━━━━━━\u001B[0m\u001B[37m\u001B[0m \u001B[1m0s\u001B[0m 2ms/step - loss: 0.5498 - mean_absolute_error: 0.5744 - mean_absolute_percentage_error: 10.3127 - mean_squared_error: 0.5498 - val_loss: 0.5272 - val_mean_absolute_error: 0.5754 - val_mean_absolute_percentage_error: 10.0754 - val_mean_squared_error: 0.5272\n",
      "Epoch 27/50\n",
      "\u001B[1m92/92\u001B[0m \u001B[32m━━━━━━━━━━━━━━━━━━━━\u001B[0m\u001B[37m\u001B[0m \u001B[1m0s\u001B[0m 2ms/step - loss: 0.4950 - mean_absolute_error: 0.5490 - mean_absolute_percentage_error: 9.6617 - mean_squared_error: 0.4950 - val_loss: 0.5679 - val_mean_absolute_error: 0.5975 - val_mean_absolute_percentage_error: 10.7383 - val_mean_squared_error: 0.5679\n",
      "Epoch 28/50\n",
      "\u001B[1m92/92\u001B[0m \u001B[32m━━━━━━━━━━━━━━━━━━━━\u001B[0m\u001B[37m\u001B[0m \u001B[1m0s\u001B[0m 2ms/step - loss: 0.4756 - mean_absolute_error: 0.5469 - mean_absolute_percentage_error: 9.5144 - mean_squared_error: 0.4756 - val_loss: 0.5148 - val_mean_absolute_error: 0.5690 - val_mean_absolute_percentage_error: 9.8691 - val_mean_squared_error: 0.5148\n",
      "Epoch 29/50\n",
      "\u001B[1m92/92\u001B[0m \u001B[32m━━━━━━━━━━━━━━━━━━━━\u001B[0m\u001B[37m\u001B[0m \u001B[1m0s\u001B[0m 2ms/step - loss: 0.5120 - mean_absolute_error: 0.5555 - mean_absolute_percentage_error: 9.7537 - mean_squared_error: 0.5120 - val_loss: 0.5158 - val_mean_absolute_error: 0.5716 - val_mean_absolute_percentage_error: 9.9900 - val_mean_squared_error: 0.5158\n",
      "Epoch 30/50\n",
      "\u001B[1m92/92\u001B[0m \u001B[32m━━━━━━━━━━━━━━━━━━━━\u001B[0m\u001B[37m\u001B[0m \u001B[1m0s\u001B[0m 2ms/step - loss: 0.4943 - mean_absolute_error: 0.5550 - mean_absolute_percentage_error: 9.7910 - mean_squared_error: 0.4943 - val_loss: 0.5469 - val_mean_absolute_error: 0.5896 - val_mean_absolute_percentage_error: 10.5516 - val_mean_squared_error: 0.5469\n",
      "Epoch 31/50\n",
      "\u001B[1m92/92\u001B[0m \u001B[32m━━━━━━━━━━━━━━━━━━━━\u001B[0m\u001B[37m\u001B[0m \u001B[1m0s\u001B[0m 2ms/step - loss: 0.4907 - mean_absolute_error: 0.5475 - mean_absolute_percentage_error: 9.7498 - mean_squared_error: 0.4907 - val_loss: 0.5053 - val_mean_absolute_error: 0.5653 - val_mean_absolute_percentage_error: 9.9091 - val_mean_squared_error: 0.5053\n",
      "Epoch 32/50\n",
      "\u001B[1m92/92\u001B[0m \u001B[32m━━━━━━━━━━━━━━━━━━━━\u001B[0m\u001B[37m\u001B[0m \u001B[1m0s\u001B[0m 2ms/step - loss: 0.4683 - mean_absolute_error: 0.5430 - mean_absolute_percentage_error: 9.5133 - mean_squared_error: 0.4683 - val_loss: 0.5063 - val_mean_absolute_error: 0.5655 - val_mean_absolute_percentage_error: 9.9041 - val_mean_squared_error: 0.5063\n",
      "Epoch 33/50\n",
      "\u001B[1m92/92\u001B[0m \u001B[32m━━━━━━━━━━━━━━━━━━━━\u001B[0m\u001B[37m\u001B[0m \u001B[1m0s\u001B[0m 2ms/step - loss: 0.4755 - mean_absolute_error: 0.5401 - mean_absolute_percentage_error: 9.5419 - mean_squared_error: 0.4755 - val_loss: 0.4999 - val_mean_absolute_error: 0.5603 - val_mean_absolute_percentage_error: 9.7666 - val_mean_squared_error: 0.4999\n",
      "Epoch 34/50\n",
      "\u001B[1m92/92\u001B[0m \u001B[32m━━━━━━━━━━━━━━━━━━━━\u001B[0m\u001B[37m\u001B[0m \u001B[1m0s\u001B[0m 2ms/step - loss: 0.4481 - mean_absolute_error: 0.5254 - mean_absolute_percentage_error: 9.3115 - mean_squared_error: 0.4481 - val_loss: 0.5187 - val_mean_absolute_error: 0.5728 - val_mean_absolute_percentage_error: 10.1379 - val_mean_squared_error: 0.5187\n",
      "Epoch 35/50\n",
      "\u001B[1m92/92\u001B[0m \u001B[32m━━━━━━━━━━━━━━━━━━━━\u001B[0m\u001B[37m\u001B[0m \u001B[1m0s\u001B[0m 2ms/step - loss: 0.5087 - mean_absolute_error: 0.5513 - mean_absolute_percentage_error: 9.8122 - mean_squared_error: 0.5087 - val_loss: 0.5059 - val_mean_absolute_error: 0.5680 - val_mean_absolute_percentage_error: 10.0520 - val_mean_squared_error: 0.5059\n",
      "Epoch 36/50\n",
      "\u001B[1m92/92\u001B[0m \u001B[32m━━━━━━━━━━━━━━━━━━━━\u001B[0m\u001B[37m\u001B[0m \u001B[1m0s\u001B[0m 2ms/step - loss: 0.4794 - mean_absolute_error: 0.5513 - mean_absolute_percentage_error: 9.7086 - mean_squared_error: 0.4794 - val_loss: 0.5086 - val_mean_absolute_error: 0.5645 - val_mean_absolute_percentage_error: 9.7221 - val_mean_squared_error: 0.5086\n",
      "Epoch 37/50\n",
      "\u001B[1m92/92\u001B[0m \u001B[32m━━━━━━━━━━━━━━━━━━━━\u001B[0m\u001B[37m\u001B[0m \u001B[1m0s\u001B[0m 2ms/step - loss: 0.4499 - mean_absolute_error: 0.5268 - mean_absolute_percentage_error: 9.2493 - mean_squared_error: 0.4499 - val_loss: 0.5028 - val_mean_absolute_error: 0.5665 - val_mean_absolute_percentage_error: 10.0090 - val_mean_squared_error: 0.5028\n",
      "Epoch 38/50\n",
      "\u001B[1m92/92\u001B[0m \u001B[32m━━━━━━━━━━━━━━━━━━━━\u001B[0m\u001B[37m\u001B[0m \u001B[1m0s\u001B[0m 2ms/step - loss: 0.4651 - mean_absolute_error: 0.5361 - mean_absolute_percentage_error: 9.3648 - mean_squared_error: 0.4651 - val_loss: 0.5054 - val_mean_absolute_error: 0.5674 - val_mean_absolute_percentage_error: 9.8937 - val_mean_squared_error: 0.5054\n",
      "Epoch 39/50\n",
      "\u001B[1m92/92\u001B[0m \u001B[32m━━━━━━━━━━━━━━━━━━━━\u001B[0m\u001B[37m\u001B[0m \u001B[1m0s\u001B[0m 2ms/step - loss: 0.4624 - mean_absolute_error: 0.5376 - mean_absolute_percentage_error: 9.4120 - mean_squared_error: 0.4624 - val_loss: 0.5177 - val_mean_absolute_error: 0.5749 - val_mean_absolute_percentage_error: 10.2389 - val_mean_squared_error: 0.5177\n",
      "Epoch 40/50\n",
      "\u001B[1m92/92\u001B[0m \u001B[32m━━━━━━━━━━━━━━━━━━━━\u001B[0m\u001B[37m\u001B[0m \u001B[1m0s\u001B[0m 2ms/step - loss: 0.4514 - mean_absolute_error: 0.5320 - mean_absolute_percentage_error: 9.2944 - mean_squared_error: 0.4514 - val_loss: 0.5003 - val_mean_absolute_error: 0.5655 - val_mean_absolute_percentage_error: 9.9556 - val_mean_squared_error: 0.5003\n",
      "Epoch 41/50\n",
      "\u001B[1m92/92\u001B[0m \u001B[32m━━━━━━━━━━━━━━━━━━━━\u001B[0m\u001B[37m\u001B[0m \u001B[1m0s\u001B[0m 1ms/step - loss: 0.4303 - mean_absolute_error: 0.5149 - mean_absolute_percentage_error: 9.0311 - mean_squared_error: 0.4303 - val_loss: 0.5201 - val_mean_absolute_error: 0.5785 - val_mean_absolute_percentage_error: 10.3178 - val_mean_squared_error: 0.5201\n",
      "Epoch 42/50\n",
      "\u001B[1m92/92\u001B[0m \u001B[32m━━━━━━━━━━━━━━━━━━━━\u001B[0m\u001B[37m\u001B[0m \u001B[1m0s\u001B[0m 1ms/step - loss: 0.4805 - mean_absolute_error: 0.5547 - mean_absolute_percentage_error: 9.7141 - mean_squared_error: 0.4805 - val_loss: 0.5016 - val_mean_absolute_error: 0.5646 - val_mean_absolute_percentage_error: 9.9516 - val_mean_squared_error: 0.5016\n",
      "Epoch 43/50\n",
      "\u001B[1m92/92\u001B[0m \u001B[32m━━━━━━━━━━━━━━━━━━━━\u001B[0m\u001B[37m\u001B[0m \u001B[1m0s\u001B[0m 2ms/step - loss: 0.4412 - mean_absolute_error: 0.5224 - mean_absolute_percentage_error: 9.1122 - mean_squared_error: 0.4412 - val_loss: 0.5292 - val_mean_absolute_error: 0.5842 - val_mean_absolute_percentage_error: 10.4905 - val_mean_squared_error: 0.5292\n",
      "Epoch 44/50\n",
      "\u001B[1m92/92\u001B[0m \u001B[32m━━━━━━━━━━━━━━━━━━━━\u001B[0m\u001B[37m\u001B[0m \u001B[1m0s\u001B[0m 1ms/step - loss: 0.4736 - mean_absolute_error: 0.5440 - mean_absolute_percentage_error: 9.6374 - mean_squared_error: 0.4736 - val_loss: 0.4947 - val_mean_absolute_error: 0.5636 - val_mean_absolute_percentage_error: 9.9266 - val_mean_squared_error: 0.4947\n",
      "Epoch 45/50\n",
      "\u001B[1m92/92\u001B[0m \u001B[32m━━━━━━━━━━━━━━━━━━━━\u001B[0m\u001B[37m\u001B[0m \u001B[1m0s\u001B[0m 2ms/step - loss: 0.4708 - mean_absolute_error: 0.5388 - mean_absolute_percentage_error: 9.4733 - mean_squared_error: 0.4708 - val_loss: 0.4936 - val_mean_absolute_error: 0.5619 - val_mean_absolute_percentage_error: 9.8287 - val_mean_squared_error: 0.4936\n",
      "Epoch 46/50\n",
      "\u001B[1m92/92\u001B[0m \u001B[32m━━━━━━━━━━━━━━━━━━━━\u001B[0m\u001B[37m\u001B[0m \u001B[1m0s\u001B[0m 2ms/step - loss: 0.4747 - mean_absolute_error: 0.5406 - mean_absolute_percentage_error: 9.5633 - mean_squared_error: 0.4747 - val_loss: 0.5085 - val_mean_absolute_error: 0.5699 - val_mean_absolute_percentage_error: 10.1515 - val_mean_squared_error: 0.5085\n",
      "Epoch 47/50\n",
      "\u001B[1m92/92\u001B[0m \u001B[32m━━━━━━━━━━━━━━━━━━━━\u001B[0m\u001B[37m\u001B[0m \u001B[1m0s\u001B[0m 2ms/step - loss: 0.4754 - mean_absolute_error: 0.5503 - mean_absolute_percentage_error: 9.7903 - mean_squared_error: 0.4754 - val_loss: 0.4900 - val_mean_absolute_error: 0.5575 - val_mean_absolute_percentage_error: 9.7344 - val_mean_squared_error: 0.4900\n",
      "Epoch 48/50\n",
      "\u001B[1m92/92\u001B[0m \u001B[32m━━━━━━━━━━━━━━━━━━━━\u001B[0m\u001B[37m\u001B[0m \u001B[1m0s\u001B[0m 2ms/step - loss: 0.4649 - mean_absolute_error: 0.5390 - mean_absolute_percentage_error: 9.4755 - mean_squared_error: 0.4649 - val_loss: 0.5091 - val_mean_absolute_error: 0.5724 - val_mean_absolute_percentage_error: 10.2139 - val_mean_squared_error: 0.5091\n",
      "Epoch 49/50\n",
      "\u001B[1m92/92\u001B[0m \u001B[32m━━━━━━━━━━━━━━━━━━━━\u001B[0m\u001B[37m\u001B[0m \u001B[1m0s\u001B[0m 1ms/step - loss: 0.4687 - mean_absolute_error: 0.5442 - mean_absolute_percentage_error: 9.7129 - mean_squared_error: 0.4687 - val_loss: 0.4972 - val_mean_absolute_error: 0.5605 - val_mean_absolute_percentage_error: 9.6384 - val_mean_squared_error: 0.4972\n",
      "Epoch 50/50\n",
      "\u001B[1m92/92\u001B[0m \u001B[32m━━━━━━━━━━━━━━━━━━━━\u001B[0m\u001B[37m\u001B[0m \u001B[1m0s\u001B[0m 2ms/step - loss: 0.4336 - mean_absolute_error: 0.5193 - mean_absolute_percentage_error: 9.0950 - mean_squared_error: 0.4336 - val_loss: 0.4977 - val_mean_absolute_error: 0.5651 - val_mean_absolute_percentage_error: 10.0026 - val_mean_squared_error: 0.4977\n",
      "{'loss': [17.30910873413086, 3.3771378993988037, 2.4171218872070312, 1.8991965055465698, 1.5495684146881104, 1.2902356386184692, 1.09417724609375, 0.9431332945823669, 0.8353908658027649, 0.7544823884963989, 0.7041072249412537, 0.6641830801963806, 0.6309230923652649, 0.609038770198822, 0.5915470719337463, 0.5712823867797852, 0.5671710968017578, 0.5506457686424255, 0.540525496006012, 0.535991907119751, 0.5281760692596436, 0.5215246081352234, 0.5160897970199585, 0.5119685530662537, 0.5060333013534546, 0.5033767819404602, 0.5052067041397095, 0.49415096640586853, 0.49211448431015015, 0.48975032567977905, 0.4880848824977875, 0.48535779118537903, 0.4793553650379181, 0.4780392646789551, 0.47840455174446106, 0.47267019748687744, 0.4720567464828491, 0.46990668773651123, 0.4699236750602722, 0.4700372517108917, 0.4690144956111908, 0.474886953830719, 0.465999960899353, 0.4635200798511505, 0.4606815278530121, 0.4603709876537323, 0.45751941204071045, 0.4577244222164154, 0.4563677906990051, 0.45599424839019775], 'mean_absolute_error': [3.8172049522399902, 1.431522250175476, 1.1861246824264526, 1.0509451627731323, 0.9539780616760254, 0.8724162578582764, 0.8040072917938232, 0.7477993369102478, 0.7046557664871216, 0.6688405871391296, 0.6465116143226624, 0.6288726329803467, 0.6126235723495483, 0.6058669090270996, 0.5963892936706543, 0.5875365734100342, 0.5883016586303711, 0.5810344815254211, 0.5748700499534607, 0.5717559456825256, 0.5710099339485168, 0.5665498971939087, 0.5653471350669861, 0.5630020499229431, 0.5603212118148804, 0.5578348636627197, 0.5586286783218384, 0.5539503693580627, 0.5524553656578064, 0.5537528395652771, 0.5517591238021851, 0.5491960644721985, 0.5460964441299438, 0.5439494848251343, 0.5457483530044556, 0.5425267815589905, 0.5427730679512024, 0.5417359471321106, 0.5424903035163879, 0.5405780076980591, 0.540621817111969, 0.5454217195510864, 0.5384811758995056, 0.5383513569831848, 0.536617636680603, 0.5354204773902893, 0.5349723100662231, 0.5350115895271301, 0.5341244339942932, 0.5331490635871887], 'mean_absolute_percentage_error': [64.68551635742188, 25.120431900024414, 20.88289451599121, 18.51643943786621, 16.787822723388672, 15.357802391052246, 14.172218322753906, 13.193011283874512, 12.421915054321289, 11.793794631958008, 11.396759986877441, 11.074739456176758, 10.8024320602417, 10.675336837768555, 10.518735885620117, 10.35490608215332, 10.370988845825195, 10.24061107635498, 10.137053489685059, 10.07217025756836, 10.068934440612793, 9.982036590576172, 9.949972152709961, 9.915532112121582, 9.874557495117188, 9.827823638916016, 9.830265045166016, 9.761504173278809, 9.720986366271973, 9.74585247039795, 9.713592529296875, 9.665946006774902, 9.614875793457031, 9.581374168395996, 9.602900505065918, 9.55750846862793, 9.541200637817383, 9.539042472839355, 9.550990104675293, 9.520023345947266, 9.519756317138672, 9.608989715576172, 9.447956085205078, 9.484193801879883, 9.437385559082031, 9.410270690917969, 9.433805465698242, 9.404918670654297, 9.415641784667969, 9.353653907775879], 'mean_squared_error': [17.30910873413086, 3.3771378993988037, 2.4171218872070312, 1.8991965055465698, 1.5495684146881104, 1.2902356386184692, 1.09417724609375, 0.9431332945823669, 0.8353908658027649, 0.7544823884963989, 0.7041072249412537, 0.6641830801963806, 0.6309230923652649, 0.609038770198822, 0.5915470719337463, 0.5712823867797852, 0.5671710968017578, 0.5506457686424255, 0.540525496006012, 0.535991907119751, 0.5281760692596436, 0.5215246081352234, 0.5160897970199585, 0.5119685530662537, 0.5060333013534546, 0.5033767819404602, 0.5052067041397095, 0.49415096640586853, 0.49211448431015015, 0.48975032567977905, 0.4880848824977875, 0.48535779118537903, 0.4793553650379181, 0.4780392646789551, 0.47840455174446106, 0.47267019748687744, 0.4720567464828491, 0.46990668773651123, 0.4699236750602722, 0.4700372517108917, 0.4690144956111908, 0.474886953830719, 0.465999960899353, 0.4635200798511505, 0.4606815278530121, 0.4603709876537323, 0.45751941204071045, 0.4577244222164154, 0.4563677906990051, 0.45599424839019775], 'val_loss': [3.864006996154785, 2.5621862411499023, 1.8883564472198486, 1.5099865198135376, 1.2643553018569946, 1.0882065296173096, 0.9259374737739563, 0.8123362064361572, 0.7397844195365906, 0.6912028789520264, 0.658306360244751, 0.6463112831115723, 0.6066117882728577, 0.587145209312439, 0.5717249512672424, 0.5602641701698303, 0.5567894577980042, 0.5476898550987244, 0.5444666743278503, 0.5341521501541138, 0.5493673086166382, 0.5421493053436279, 0.54072505235672, 0.5313583612442017, 0.5339469313621521, 0.5271902084350586, 0.5678831338882446, 0.5148454904556274, 0.5158316493034363, 0.5469267964363098, 0.5053198933601379, 0.5063294768333435, 0.49990835785865784, 0.5187358260154724, 0.5058643221855164, 0.5085907578468323, 0.5027523040771484, 0.5053532123565674, 0.5176863670349121, 0.5002985000610352, 0.5201442837715149, 0.5015681982040405, 0.5292085409164429, 0.4947143793106079, 0.49358415603637695, 0.5084761381149292, 0.48997536301612854, 0.509067177772522, 0.49720054864883423, 0.497744083404541], 'val_mean_absolute_error': [1.600978970527649, 1.2667092084884644, 1.0952497720718384, 0.9767695665359497, 0.8932682871818542, 0.828441858291626, 0.7664212584495544, 0.7173400521278381, 0.6823688745498657, 0.65869140625, 0.6450245380401611, 0.6406772136688232, 0.6216164231300354, 0.6124231815338135, 0.6030625700950623, 0.5987498164176941, 0.5954421758651733, 0.5898798704147339, 0.5879046320915222, 0.5817124843597412, 0.58976149559021, 0.5847235321998596, 0.5850965976715088, 0.5784377455711365, 0.5812557339668274, 0.5754402279853821, 0.5975465774536133, 0.5690239071846008, 0.5715844631195068, 0.5895847082138062, 0.5652822852134705, 0.5655182600021362, 0.5603321194648743, 0.572847306728363, 0.5680180191993713, 0.564531683921814, 0.5664766430854797, 0.5673999190330505, 0.5749373435974121, 0.5655189156532288, 0.5785109996795654, 0.5646227598190308, 0.5841898322105408, 0.5635676980018616, 0.5619432926177979, 0.5698708891868591, 0.5575202107429504, 0.5724180340766907, 0.56053626537323, 0.5651041865348816], 'val_mean_absolute_percentage_error': [27.749740600585938, 22.071712493896484, 18.95292854309082, 16.938222885131836, 15.458637237548828, 14.468647956848145, 13.276631355285645, 12.39731216430664, 11.896842002868652, 11.447672843933105, 11.364356994628906, 11.362754821777344, 10.861641883850098, 10.729660034179688, 10.52364444732666, 10.478145599365234, 10.518823623657227, 10.400976181030273, 10.294611930847168, 10.177488327026367, 10.49946117401123, 10.321643829345703, 10.393135070800781, 10.227226257324219, 10.33132266998291, 10.075417518615723, 10.738300323486328, 9.869138717651367, 9.990041732788086, 10.55163860321045, 9.909078598022461, 9.904138565063477, 9.766626358032227, 10.137861251831055, 10.051969528198242, 9.72212028503418, 10.008976936340332, 9.89370346069336, 10.238862991333008, 9.955571174621582, 10.317795753479004, 9.951578140258789, 10.490509033203125, 9.926639556884766, 9.828730583190918, 10.151496887207031, 9.734375953674316, 10.213939666748047, 9.638357162475586, 10.002639770507812], 'val_mean_squared_error': [3.864006996154785, 2.5621862411499023, 1.8883564472198486, 1.5099865198135376, 1.2643553018569946, 1.0882065296173096, 0.9259374737739563, 0.8123362064361572, 0.7397844195365906, 0.6912028789520264, 0.658306360244751, 0.6463112831115723, 0.6066117882728577, 0.587145209312439, 0.5717249512672424, 0.5602641701698303, 0.5567894577980042, 0.5476898550987244, 0.5444666743278503, 0.5341521501541138, 0.5493673086166382, 0.5421493053436279, 0.54072505235672, 0.5313583612442017, 0.5339469313621521, 0.5271902084350586, 0.5678831338882446, 0.5148454904556274, 0.5158316493034363, 0.5469267964363098, 0.5053198933601379, 0.5063294768333435, 0.49990835785865784, 0.5187358260154724, 0.5058643221855164, 0.5085907578468323, 0.5027523040771484, 0.5053532123565674, 0.5176863670349121, 0.5002985000610352, 0.5201442837715149, 0.5015681982040405, 0.5292085409164429, 0.4947143793106079, 0.49358415603637695, 0.5084761381149292, 0.48997536301612854, 0.509067177772522, 0.49720054864883423, 0.497744083404541]}\n"
     ]
    }
   ],
   "execution_count": 49
  },
  {
   "metadata": {
    "ExecuteTime": {
     "end_time": "2025-04-04T21:13:08.891320Z",
     "start_time": "2025-04-04T21:13:08.676984Z"
    }
   },
   "cell_type": "code",
   "source": [
    "test_loss = model.evaluate(features_test, target_test, verbose=1)\n",
    "\n",
    "print(\"Test loss:\", test_loss)\n",
    "\n",
    "predictions = model.predict(features_test)\n",
    "\n"
   ],
   "id": "fab0a3ba9ab68eeb",
   "outputs": [
    {
     "name": "stdout",
     "output_type": "stream",
     "text": [
      "\u001B[1m31/31\u001B[0m \u001B[32m━━━━━━━━━━━━━━━━━━━━\u001B[0m\u001B[37m\u001B[0m \u001B[1m0s\u001B[0m 1ms/step - loss: 0.5083 - mean_absolute_error: 0.5490 - mean_absolute_percentage_error: 9.5835 - mean_squared_error: 0.5083\n",
      "Test loss: [0.5182392001152039, 0.5182392001152039, 0.5589458346366882, 9.75770378112793]\n",
      "\u001B[1m31/31\u001B[0m \u001B[32m━━━━━━━━━━━━━━━━━━━━\u001B[0m\u001B[37m\u001B[0m \u001B[1m0s\u001B[0m 933us/step\n"
     ]
    }
   ],
   "execution_count": 52
  }
 ],
 "metadata": {
  "kernelspec": {
   "display_name": "Python 3",
   "language": "python",
   "name": "python3"
  },
  "language_info": {
   "codemirror_mode": {
    "name": "ipython",
    "version": 2
   },
   "file_extension": ".py",
   "mimetype": "text/x-python",
   "name": "python",
   "nbconvert_exporter": "python",
   "pygments_lexer": "ipython2",
   "version": "2.7.6"
  }
 },
 "nbformat": 4,
 "nbformat_minor": 5
}
