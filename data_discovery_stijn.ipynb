{
 "cells": [
  {
   "cell_type": "code",
   "execution_count": 61,
   "metadata": {},
   "outputs": [],
   "source": [
    "import pandas as pd\n",
    "from sklearn.preprocessing import StandardScaler\n",
    "from sklearn.model_selection import train_test_split\n",
    "from sklearn.svm import SVR\n",
    "from sklearn.metrics import mean_squared_error\n",
    "from sklearn.metrics import mean_squared_error, mean_absolute_percentage_error\n",
    "\n"
   ]
  },
  {
   "cell_type": "markdown",
   "metadata": {},
   "source": [
    "In het artikel geven ze aan dat ze met de red wine gewerkt hebben: \"we\n",
    "have chosen redwine data for our study because of its popularity over the\n",
    "white wine.\""
   ]
  },
  {
   "cell_type": "code",
   "execution_count": 40,
   "metadata": {},
   "outputs": [],
   "source": [
    "\n",
    "# Define the relative path to the CSV file\n",
    "relative_path = 'wine+quality/winequality-red.csv'\n",
    "\n",
    "# Read the CSV file using pandas\n",
    "red_wine_df = pd.read_csv(relative_path, delimiter=';')"
   ]
  },
  {
   "cell_type": "code",
   "execution_count": 41,
   "metadata": {},
   "outputs": [],
   "source": [
    "\n",
    "# Define the relative path to the CSV file\n",
    "relative_path = 'wine+quality/winequality-white.csv'\n",
    "\n",
    "# Read the CSV file using pandas\n",
    "white_wine_df = pd.read_csv(relative_path, delimiter=';')\n",
    "\n",
    "\n"
   ]
  },
  {
   "cell_type": "code",
   "execution_count": 42,
   "metadata": {},
   "outputs": [
    {
     "name": "stdout",
     "output_type": "stream",
     "text": [
      "   fixed acidity  volatile acidity  citric acid  residual sugar  chlorides  \\\n",
      "0            7.4              0.70         0.00             1.9      0.076   \n",
      "1            7.8              0.88         0.00             2.6      0.098   \n",
      "2            7.8              0.76         0.04             2.3      0.092   \n",
      "3           11.2              0.28         0.56             1.9      0.075   \n",
      "4            7.4              0.70         0.00             1.9      0.076   \n",
      "\n",
      "   free sulfur dioxide  total sulfur dioxide  density    pH  sulphates  \\\n",
      "0                 11.0                  34.0   0.9978  3.51       0.56   \n",
      "1                 25.0                  67.0   0.9968  3.20       0.68   \n",
      "2                 15.0                  54.0   0.9970  3.26       0.65   \n",
      "3                 17.0                  60.0   0.9980  3.16       0.58   \n",
      "4                 11.0                  34.0   0.9978  3.51       0.56   \n",
      "\n",
      "   alcohol  quality  \n",
      "0      9.4        5  \n",
      "1      9.8        5  \n",
      "2      9.8        5  \n",
      "3      9.8        6  \n",
      "4      9.4        5  \n"
     ]
    }
   ],
   "source": [
    "# Display the first few rows of the data\n",
    "print(red_wine_df.head())"
   ]
  },
  {
   "cell_type": "code",
   "execution_count": 43,
   "metadata": {},
   "outputs": [
    {
     "data": {
      "text/plain": [
       "1599"
      ]
     },
     "execution_count": 43,
     "metadata": {},
     "output_type": "execute_result"
    }
   ],
   "source": [
    "len(red_wine_df)"
   ]
  },
  {
   "cell_type": "markdown",
   "metadata": {},
   "source": [
    "In het artikel geven ze aan dat de dataset 4898 samples bevat: \"The dataset contains the records of 4898 random samples of wine manufactured.\"\n",
    "Dit komt niet overeen met het aantal samples in de redwine dataset. Dit komt overeen met het aantal samples in de whitewine dataset."
   ]
  },
  {
   "cell_type": "code",
   "execution_count": 44,
   "metadata": {},
   "outputs": [
    {
     "data": {
      "text/plain": [
       "4898"
      ]
     },
     "execution_count": 44,
     "metadata": {},
     "output_type": "execute_result"
    }
   ],
   "source": [
    "len(white_wine_df)"
   ]
  },
  {
   "cell_type": "code",
   "execution_count": 45,
   "metadata": {},
   "outputs": [
    {
     "name": "stdout",
     "output_type": "stream",
     "text": [
      "                           mean        std      min        max    median\n",
      "fixed acidity          8.319637   1.741096  4.60000   15.90000   7.90000\n",
      "volatile acidity       0.527821   0.179060  0.12000    1.58000   0.52000\n",
      "citric acid            0.270976   0.194801  0.00000    1.00000   0.26000\n",
      "residual sugar         2.538806   1.409928  0.90000   15.50000   2.20000\n",
      "chlorides              0.087467   0.047065  0.01200    0.61100   0.07900\n",
      "free sulfur dioxide   15.874922  10.460157  1.00000   72.00000  14.00000\n",
      "total sulfur dioxide  46.467792  32.895324  6.00000  289.00000  38.00000\n",
      "density                0.996747   0.001887  0.99007    1.00369   0.99675\n",
      "pH                     3.311113   0.154386  2.74000    4.01000   3.31000\n",
      "sulphates              0.658149   0.169507  0.33000    2.00000   0.62000\n",
      "alcohol               10.422983   1.065668  8.40000   14.90000  10.20000\n",
      "quality                5.636023   0.807569  3.00000    8.00000   6.00000\n"
     ]
    }
   ],
   "source": [
    "# Calculate the required statistics\n",
    "statistics = red_wine_df.describe().T[['mean', 'std', 'min', 'max']]\n",
    "statistics['median'] = red_wine_df.median()\n",
    "\n",
    "# Display the statistics\n",
    "print(statistics)\n"
   ]
  },
  {
   "cell_type": "code",
   "execution_count": 46,
   "metadata": {},
   "outputs": [
    {
     "name": "stdout",
     "output_type": "stream",
     "text": [
      "                            mean        std      min        max     median\n",
      "fixed acidity           6.854788   0.843868  3.80000   14.20000    6.80000\n",
      "volatile acidity        0.278241   0.100795  0.08000    1.10000    0.26000\n",
      "citric acid             0.334192   0.121020  0.00000    1.66000    0.32000\n",
      "residual sugar          6.391415   5.072058  0.60000   65.80000    5.20000\n",
      "chlorides               0.045772   0.021848  0.00900    0.34600    0.04300\n",
      "free sulfur dioxide    35.308085  17.007137  2.00000  289.00000   34.00000\n",
      "total sulfur dioxide  138.360657  42.498065  9.00000  440.00000  134.00000\n",
      "density                 0.994027   0.002991  0.98711    1.03898    0.99374\n",
      "pH                      3.188267   0.151001  2.72000    3.82000    3.18000\n",
      "sulphates               0.489847   0.114126  0.22000    1.08000    0.47000\n",
      "alcohol                10.514267   1.230621  8.00000   14.20000   10.40000\n",
      "quality                 5.877909   0.885639  3.00000    9.00000    6.00000\n"
     ]
    }
   ],
   "source": [
    "# Calculate the required statistics\n",
    "statistics = white_wine_df.describe().T[['mean', 'std', 'min', 'max']]\n",
    "statistics['median'] = white_wine_df.median()\n",
    "\n",
    "# Display the statistics\n",
    "print(statistics)\n"
   ]
  },
  {
   "cell_type": "markdown",
   "metadata": {},
   "source": [
    "Ook de statistics van table1 in het article \"Descriptive statistics of the variables of the redwine data.\" komen overeen met de statistics van de white wine."
   ]
  },
  {
   "cell_type": "code",
   "execution_count": 47,
   "metadata": {},
   "outputs": [
    {
     "name": "stdout",
     "output_type": "stream",
     "text": [
      "fixed acidity          -0.113663\n",
      "volatile acidity       -0.194723\n",
      "citric acid            -0.009209\n",
      "residual sugar         -0.097577\n",
      "chlorides              -0.209934\n",
      "free sulfur dioxide     0.008158\n",
      "total sulfur dioxide   -0.174737\n",
      "density                -0.307123\n",
      "pH                      0.099427\n",
      "sulphates               0.053678\n",
      "alcohol                 0.435575\n",
      "quality                 1.000000\n",
      "Name: quality, dtype: float64\n"
     ]
    }
   ],
   "source": [
    "# Calculate the Pearson correlation coefficient (r) of the predictors with respect to the target variable: quality\n",
    "correlation_coefficients = white_wine_df.corr()['quality']\n",
    "\n",
    "# Display the correlation coefficients\n",
    "print(correlation_coefficients)\n"
   ]
  },
  {
   "cell_type": "code",
   "execution_count": 48,
   "metadata": {},
   "outputs": [
    {
     "name": "stdout",
     "output_type": "stream",
     "text": [
      "fixed acidity           0.124052\n",
      "volatile acidity       -0.390558\n",
      "citric acid             0.226373\n",
      "residual sugar          0.013732\n",
      "chlorides              -0.128907\n",
      "free sulfur dioxide    -0.050656\n",
      "total sulfur dioxide   -0.185100\n",
      "density                -0.174919\n",
      "pH                     -0.057731\n",
      "sulphates               0.251397\n",
      "alcohol                 0.476166\n",
      "quality                 1.000000\n",
      "Name: quality, dtype: float64\n"
     ]
    }
   ],
   "source": [
    "# Calculate the Pearson correlation coefficient (r) of the predictors with respect to the target variable: quality\n",
    "correlation_coefficients = red_wine_df.corr()['quality']\n",
    "\n",
    "# Display the correlation coefficients\n",
    "print(correlation_coefficients)"
   ]
  },
  {
   "cell_type": "markdown",
   "metadata": {},
   "source": [
    "Ook de table2 van het artikel komt overeen met de data van whitewine."
   ]
  },
  {
   "cell_type": "markdown",
   "metadata": {},
   "source": []
  },
  {
   "cell_type": "markdown",
   "metadata": {},
   "source": [
    "De cijfers van table3 zijn volgens mij de cijfers die we moeten reproduceren."
   ]
  },
  {
   "cell_type": "markdown",
   "metadata": {},
   "source": [
    "\"feature scaling is a very important step one need to take care of, before\n",
    "training any ML model.\"\n",
    "\"To scale the features of the dataset, standardization has\n",
    "been used.\"\n"
   ]
  },
  {
   "cell_type": "code",
   "execution_count": 49,
   "metadata": {},
   "outputs": [],
   "source": [
    "# Initialize the StandardScaler\n",
    "scaler = StandardScaler()\n"
   ]
  },
  {
   "cell_type": "code",
   "execution_count": null,
   "metadata": {},
   "outputs": [],
   "source": []
  },
  {
   "cell_type": "code",
   "execution_count": 50,
   "metadata": {},
   "outputs": [],
   "source": [
    "# Apply standardization to the DataFrame\n",
    "white_wine_scaled = scaler.fit_transform(white_wine_df)\n"
   ]
  },
  {
   "cell_type": "code",
   "execution_count": 51,
   "metadata": {},
   "outputs": [],
   "source": [
    "# Convert the scaled data back to a DataFrame\n",
    "white_wine_scaled_df = pd.DataFrame(white_wine_scaled, columns=white_wine_df.columns)\n"
   ]
  },
  {
   "cell_type": "code",
   "execution_count": 52,
   "metadata": {},
   "outputs": [
    {
     "name": "stdout",
     "output_type": "stream",
     "text": [
      "   fixed acidity  volatile acidity  citric acid  residual sugar  chlorides  \\\n",
      "0       0.172097         -0.081770     0.213280        2.821349  -0.035355   \n",
      "1      -0.657501          0.215896     0.048001       -0.944765   0.147747   \n",
      "2       1.475751          0.017452     0.543838        0.100282   0.193523   \n",
      "3       0.409125         -0.478657    -0.117278        0.415768   0.559727   \n",
      "4       0.409125         -0.478657    -0.117278        0.415768   0.559727   \n",
      "\n",
      "   free sulfur dioxide  total sulfur dioxide   density        pH  sulphates  \\\n",
      "0             0.569932              0.744565  2.331512 -1.246921  -0.349184   \n",
      "1            -1.253019             -0.149685 -0.009154  0.740029   0.001342   \n",
      "2            -0.312141             -0.973336  0.358665  0.475102  -0.436816   \n",
      "3             0.687541              1.121091  0.525855  0.011480  -0.787342   \n",
      "4             0.687541              1.121091  0.525855  0.011480  -0.787342   \n",
      "\n",
      "    alcohol  quality  \n",
      "0 -1.393152  0.13787  \n",
      "1 -0.824276  0.13787  \n",
      "2 -0.336667  0.13787  \n",
      "3 -0.499203  0.13787  \n",
      "4 -0.499203  0.13787  \n"
     ]
    }
   ],
   "source": [
    "print(white_wine_scaled_df.head())"
   ]
  },
  {
   "cell_type": "markdown",
   "metadata": {},
   "source": [
    "\"The data was split into training data set and testing data set in the ratio 3:1.\"\n"
   ]
  },
  {
   "cell_type": "code",
   "execution_count": 56,
   "metadata": {},
   "outputs": [],
   "source": [
    "# Split the data into features and target variable\n",
    "X = white_wine_scaled_df.drop('quality', axis=1)\n",
    "y = white_wine_scaled_df['quality']\n"
   ]
  },
  {
   "cell_type": "code",
   "execution_count": 57,
   "metadata": {},
   "outputs": [],
   "source": [
    "# Split the data into training and testing sets in the ratio 3:1\n",
    "X_train, X_test, y_train, y_test = train_test_split(X, y, test_size=0.25, random_state=1)\n"
   ]
  },
  {
   "cell_type": "markdown",
   "metadata": {},
   "source": [
    "\"In this work, we\n",
    "have used radial basis kernel (RBF) because it outperformed other kernels based\n",
    "SVR in redwine dataset.\"\n",
    "\n",
    "\"The optimal values\n",
    "the parameters computed using 10-fold cross-validation are cost = 0.95 and\n",
    "gamma = 0.13.\""
   ]
  },
  {
   "cell_type": "markdown",
   "metadata": {},
   "source": [
    "de crosvalidatie kunnen we ook nog nabootsen."
   ]
  },
  {
   "cell_type": "code",
   "execution_count": 59,
   "metadata": {},
   "outputs": [
    {
     "data": {
      "text/html": [
       "<style>#sk-container-id-1 {color: black;background-color: white;}#sk-container-id-1 pre{padding: 0;}#sk-container-id-1 div.sk-toggleable {background-color: white;}#sk-container-id-1 label.sk-toggleable__label {cursor: pointer;display: block;width: 100%;margin-bottom: 0;padding: 0.3em;box-sizing: border-box;text-align: center;}#sk-container-id-1 label.sk-toggleable__label-arrow:before {content: \"▸\";float: left;margin-right: 0.25em;color: #696969;}#sk-container-id-1 label.sk-toggleable__label-arrow:hover:before {color: black;}#sk-container-id-1 div.sk-estimator:hover label.sk-toggleable__label-arrow:before {color: black;}#sk-container-id-1 div.sk-toggleable__content {max-height: 0;max-width: 0;overflow: hidden;text-align: left;background-color: #f0f8ff;}#sk-container-id-1 div.sk-toggleable__content pre {margin: 0.2em;color: black;border-radius: 0.25em;background-color: #f0f8ff;}#sk-container-id-1 input.sk-toggleable__control:checked~div.sk-toggleable__content {max-height: 200px;max-width: 100%;overflow: auto;}#sk-container-id-1 input.sk-toggleable__control:checked~label.sk-toggleable__label-arrow:before {content: \"▾\";}#sk-container-id-1 div.sk-estimator input.sk-toggleable__control:checked~label.sk-toggleable__label {background-color: #d4ebff;}#sk-container-id-1 div.sk-label input.sk-toggleable__control:checked~label.sk-toggleable__label {background-color: #d4ebff;}#sk-container-id-1 input.sk-hidden--visually {border: 0;clip: rect(1px 1px 1px 1px);clip: rect(1px, 1px, 1px, 1px);height: 1px;margin: -1px;overflow: hidden;padding: 0;position: absolute;width: 1px;}#sk-container-id-1 div.sk-estimator {font-family: monospace;background-color: #f0f8ff;border: 1px dotted black;border-radius: 0.25em;box-sizing: border-box;margin-bottom: 0.5em;}#sk-container-id-1 div.sk-estimator:hover {background-color: #d4ebff;}#sk-container-id-1 div.sk-parallel-item::after {content: \"\";width: 100%;border-bottom: 1px solid gray;flex-grow: 1;}#sk-container-id-1 div.sk-label:hover label.sk-toggleable__label {background-color: #d4ebff;}#sk-container-id-1 div.sk-serial::before {content: \"\";position: absolute;border-left: 1px solid gray;box-sizing: border-box;top: 0;bottom: 0;left: 50%;z-index: 0;}#sk-container-id-1 div.sk-serial {display: flex;flex-direction: column;align-items: center;background-color: white;padding-right: 0.2em;padding-left: 0.2em;position: relative;}#sk-container-id-1 div.sk-item {position: relative;z-index: 1;}#sk-container-id-1 div.sk-parallel {display: flex;align-items: stretch;justify-content: center;background-color: white;position: relative;}#sk-container-id-1 div.sk-item::before, #sk-container-id-1 div.sk-parallel-item::before {content: \"\";position: absolute;border-left: 1px solid gray;box-sizing: border-box;top: 0;bottom: 0;left: 50%;z-index: -1;}#sk-container-id-1 div.sk-parallel-item {display: flex;flex-direction: column;z-index: 1;position: relative;background-color: white;}#sk-container-id-1 div.sk-parallel-item:first-child::after {align-self: flex-end;width: 50%;}#sk-container-id-1 div.sk-parallel-item:last-child::after {align-self: flex-start;width: 50%;}#sk-container-id-1 div.sk-parallel-item:only-child::after {width: 0;}#sk-container-id-1 div.sk-dashed-wrapped {border: 1px dashed gray;margin: 0 0.4em 0.5em 0.4em;box-sizing: border-box;padding-bottom: 0.4em;background-color: white;}#sk-container-id-1 div.sk-label label {font-family: monospace;font-weight: bold;display: inline-block;line-height: 1.2em;}#sk-container-id-1 div.sk-label-container {text-align: center;}#sk-container-id-1 div.sk-container {/* jupyter's `normalize.less` sets `[hidden] { display: none; }` but bootstrap.min.css set `[hidden] { display: none !important; }` so we also need the `!important` here to be able to override the default hidden behavior on the sphinx rendered scikit-learn.org. See: https://github.com/scikit-learn/scikit-learn/issues/21755 */display: inline-block !important;position: relative;}#sk-container-id-1 div.sk-text-repr-fallback {display: none;}</style><div id=\"sk-container-id-1\" class=\"sk-top-container\"><div class=\"sk-text-repr-fallback\"><pre>SVR()</pre><b>In a Jupyter environment, please rerun this cell to show the HTML representation or trust the notebook. <br />On GitHub, the HTML representation is unable to render, please try loading this page with nbviewer.org.</b></div><div class=\"sk-container\" hidden><div class=\"sk-item\"><div class=\"sk-estimator sk-toggleable\"><input class=\"sk-toggleable__control sk-hidden--visually\" id=\"sk-estimator-id-1\" type=\"checkbox\" checked><label for=\"sk-estimator-id-1\" class=\"sk-toggleable__label sk-toggleable__label-arrow\">SVR</label><div class=\"sk-toggleable__content\"><pre>SVR()</pre></div></div></div></div></div>"
      ],
      "text/plain": [
       "SVR()"
      ]
     },
     "execution_count": 59,
     "metadata": {},
     "output_type": "execute_result"
    }
   ],
   "source": [
    "# Initialize and train the SVR model with RBF kernel\n",
    "svr = SVR(kernel='rbf', C=1.0, gamma='scale')\n",
    "svr.fit(X_train, y_train)\n"
   ]
  },
  {
   "cell_type": "code",
   "execution_count": null,
   "metadata": {},
   "outputs": [],
   "source": [
    "# Make predictions for training and testing sets\n",
    "y_train_pred = svr.predict(X_train)\n",
    "y_test_pred = svr.predict(X_test)\n"
   ]
  },
  {
   "attachments": {
    "image.png": {
     "image/png": "[encoded data removed]"
    }
   },
   "cell_type": "markdown",
   "metadata": {},
   "source": [
    "![image.png](attachment:image.png)"
   ]
  },
  {
   "cell_type": "code",
   "execution_count": 65,
   "metadata": {},
   "outputs": [],
   "source": [
    "from scipy.stats import pearsonr\n"
   ]
  },
  {
   "cell_type": "markdown",
   "metadata": {},
   "source": [
    "Te controleren: is dit echt de Pearson correlation coefficient?"
   ]
  },
  {
   "cell_type": "code",
   "execution_count": 69,
   "metadata": {},
   "outputs": [],
   "source": [
    "# Function to calculate R (Pearson correlation coefficient), MSE, and MAPE\n",
    "def calculate_metrics(y_true, y_pred):\n",
    "    # Calculate R (Pearson correlation coefficient)   \n",
    "    r, _ = pearsonr(y_true, y_pred)\n",
    "\n",
    "    \n",
    "    # Calculate MSE\n",
    "    mse = mean_squared_error(y_true, y_pred)\n",
    "    \n",
    "    # Calculate MAPE\n",
    "    mape = mean_absolute_percentage_error(y_true, y_pred)\n",
    "    \n",
    "    return r, mse, mape\n"
   ]
  },
  {
   "cell_type": "code",
   "execution_count": 70,
   "metadata": {},
   "outputs": [
    {
     "name": "stdout",
     "output_type": "stream",
     "text": [
      "Training Data Set Metrics:\n",
      "R: 0.7071729959158517\n",
      "MSE: 0.5152754958318999\n",
      "MAPE: 1.3118617303026598\n",
      "Testing Data Set Metrics:\n",
      "R: 0.6179847948565578\n",
      "MSE: 0.5913402502924896\n",
      "MAPE: 1.5321947192609962\n"
     ]
    }
   ],
   "source": [
    "# Calculate metrics for training data set\n",
    "train_r, train_mse, train_mape = calculate_metrics(y_train, y_train_pred)\n",
    "\n",
    "# Calculate metrics for testing data set\n",
    "test_r, test_mse, test_mape = calculate_metrics(y_test, y_test_pred)\n",
    "\n",
    "\n",
    "print(f\"Training Data Set Metrics:\\nR: {train_r}\\nMSE: {train_mse}\\nMAPE: {train_mape}\")\n",
    "print(f\"Testing Data Set Metrics:\\nR: {test_r}\\nMSE: {test_mse}\\nMAPE: {test_mape}\")\n"
   ]
  },
  {
   "attachments": {
    "image.png": {
     "image/png": "[encoded data removed]"
    }
   },
   "cell_type": "markdown",
   "metadata": {},
   "source": [
    "![image.png](attachment:image.png)"
   ]
  },
  {
   "cell_type": "markdown",
   "metadata": {},
   "source": [
    "Next step: iterate over a lot of random states. verdeling bekijken van de results en kijken of ze in de buurt liggen van de gegeven results."
   ]
  }
 ],
 "metadata": {
  "kernelspec": {
   "display_name": "base",
   "language": "python",
   "name": "python3"
  },
  "language_info": {
   "codemirror_mode": {
    "name": "ipython",
    "version": 3
   },
   "file_extension": ".py",
   "mimetype": "text/x-python",
   "name": "python",
   "nbconvert_exporter": "python",
   "pygments_lexer": "ipython3",
   "version": "3.11.7"
  }
 },
 "nbformat": 4,
 "nbformat_minor": 2
}
