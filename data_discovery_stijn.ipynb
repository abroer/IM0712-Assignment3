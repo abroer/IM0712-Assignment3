{
 "cells": [
  {
   "cell_type": "code",
   "execution_count": 2,
   "metadata": {},
   "outputs": [],
   "source": [
    "import pandas as pd\n"
   ]
  },
  {
   "cell_type": "markdown",
   "metadata": {},
   "source": [
    "In het artikel geven ze aan dat ze met de red wine gewerkt hebben: \"we\n",
    "have chosen redwine data for our study because of its popularity over the\n",
    "white wine.\""
   ]
  },
  {
   "cell_type": "code",
   "execution_count": 13,
   "metadata": {},
   "outputs": [],
   "source": [
    "\n",
    "# Define the relative path to the CSV file\n",
    "relative_path = 'wine+quality/winequality-red.csv'\n",
    "\n",
    "# Read the CSV file using pandas\n",
    "red_wine_data = pd.read_csv(relative_path, delimiter=';')"
   ]
  },
  {
   "cell_type": "code",
   "execution_count": 17,
   "metadata": {},
   "outputs": [],
   "source": [
    "\n",
    "# Define the relative path to the CSV file\n",
    "relative_path = 'wine+quality/winequality-white.csv'\n",
    "\n",
    "# Read the CSV file using pandas\n",
    "white_wine_data = pd.read_csv(relative_path, delimiter=';')\n",
    "\n",
    "\n"
   ]
  },
  {
   "cell_type": "code",
   "execution_count": 14,
   "metadata": {},
   "outputs": [
    {
     "name": "stdout",
     "output_type": "stream",
     "text": [
      "   fixed acidity  volatile acidity  citric acid  residual sugar  chlorides  \\\n",
      "0            7.4              0.70         0.00             1.9      0.076   \n",
      "1            7.8              0.88         0.00             2.6      0.098   \n",
      "2            7.8              0.76         0.04             2.3      0.092   \n",
      "3           11.2              0.28         0.56             1.9      0.075   \n",
      "4            7.4              0.70         0.00             1.9      0.076   \n",
      "\n",
      "   free sulfur dioxide  total sulfur dioxide  density    pH  sulphates  \\\n",
      "0                 11.0                  34.0   0.9978  3.51       0.56   \n",
      "1                 25.0                  67.0   0.9968  3.20       0.68   \n",
      "2                 15.0                  54.0   0.9970  3.26       0.65   \n",
      "3                 17.0                  60.0   0.9980  3.16       0.58   \n",
      "4                 11.0                  34.0   0.9978  3.51       0.56   \n",
      "\n",
      "   alcohol  quality  \n",
      "0      9.4        5  \n",
      "1      9.8        5  \n",
      "2      9.8        5  \n",
      "3      9.8        6  \n",
      "4      9.4        5  \n"
     ]
    }
   ],
   "source": [
    "# Display the first few rows of the data\n",
    "print(red_wine_data.head())"
   ]
  },
  {
   "cell_type": "code",
   "execution_count": 21,
   "metadata": {},
   "outputs": [
    {
     "data": {
      "text/plain": [
       "1599"
      ]
     },
     "execution_count": 21,
     "metadata": {},
     "output_type": "execute_result"
    }
   ],
   "source": [
    "len(red_wine_data)"
   ]
  },
  {
   "cell_type": "markdown",
   "metadata": {},
   "source": [
    "In het artikel geven ze aan dat de dataset 4898 samples bevat: \"The dataset contains the records of 4898 random samples of wine manufactured.\"\n",
    "Dit komt niet overeen met het aantal samples in de redwine dataset. Dit komt overeen met het aantal samples in de whitewine dataset."
   ]
  },
  {
   "cell_type": "code",
   "execution_count": 18,
   "metadata": {},
   "outputs": [
    {
     "data": {
      "text/plain": [
       "4898"
      ]
     },
     "execution_count": 18,
     "metadata": {},
     "output_type": "execute_result"
    }
   ],
   "source": [
    "len(white_wine_data)"
   ]
  },
  {
   "cell_type": "code",
   "execution_count": 19,
   "metadata": {},
   "outputs": [
    {
     "name": "stdout",
     "output_type": "stream",
     "text": [
      "                           mean        std      min        max    median\n",
      "fixed acidity          8.319637   1.741096  4.60000   15.90000   7.90000\n",
      "volatile acidity       0.527821   0.179060  0.12000    1.58000   0.52000\n",
      "citric acid            0.270976   0.194801  0.00000    1.00000   0.26000\n",
      "residual sugar         2.538806   1.409928  0.90000   15.50000   2.20000\n",
      "chlorides              0.087467   0.047065  0.01200    0.61100   0.07900\n",
      "free sulfur dioxide   15.874922  10.460157  1.00000   72.00000  14.00000\n",
      "total sulfur dioxide  46.467792  32.895324  6.00000  289.00000  38.00000\n",
      "density                0.996747   0.001887  0.99007    1.00369   0.99675\n",
      "pH                     3.311113   0.154386  2.74000    4.01000   3.31000\n",
      "sulphates              0.658149   0.169507  0.33000    2.00000   0.62000\n",
      "alcohol               10.422983   1.065668  8.40000   14.90000  10.20000\n",
      "quality                5.636023   0.807569  3.00000    8.00000   6.00000\n"
     ]
    }
   ],
   "source": [
    "# Calculate the required statistics\n",
    "statistics = red_wine_data.describe().T[['mean', 'std', 'min', 'max']]\n",
    "statistics['median'] = red_wine_data.median()\n",
    "\n",
    "# Display the statistics\n",
    "print(statistics)\n"
   ]
  },
  {
   "cell_type": "code",
   "execution_count": 20,
   "metadata": {},
   "outputs": [
    {
     "name": "stdout",
     "output_type": "stream",
     "text": [
      "                            mean        std      min        max     median\n",
      "fixed acidity           6.854788   0.843868  3.80000   14.20000    6.80000\n",
      "volatile acidity        0.278241   0.100795  0.08000    1.10000    0.26000\n",
      "citric acid             0.334192   0.121020  0.00000    1.66000    0.32000\n",
      "residual sugar          6.391415   5.072058  0.60000   65.80000    5.20000\n",
      "chlorides               0.045772   0.021848  0.00900    0.34600    0.04300\n",
      "free sulfur dioxide    35.308085  17.007137  2.00000  289.00000   34.00000\n",
      "total sulfur dioxide  138.360657  42.498065  9.00000  440.00000  134.00000\n",
      "density                 0.994027   0.002991  0.98711    1.03898    0.99374\n",
      "pH                      3.188267   0.151001  2.72000    3.82000    3.18000\n",
      "sulphates               0.489847   0.114126  0.22000    1.08000    0.47000\n",
      "alcohol                10.514267   1.230621  8.00000   14.20000   10.40000\n",
      "quality                 5.877909   0.885639  3.00000    9.00000    6.00000\n"
     ]
    }
   ],
   "source": [
    "# Calculate the required statistics\n",
    "statistics = white_wine_data.describe().T[['mean', 'std', 'min', 'max']]\n",
    "statistics['median'] = white_wine_data.median()\n",
    "\n",
    "# Display the statistics\n",
    "print(statistics)\n"
   ]
  },
  {
   "cell_type": "markdown",
   "metadata": {},
   "source": [
    "Ook de statistics van table1 in het article \"Descriptive statistics of the variables of the redwine data.\" komen overeen met de statistics van de white wine."
   ]
  },
  {
   "cell_type": "code",
   "execution_count": 24,
   "metadata": {},
   "outputs": [
    {
     "name": "stdout",
     "output_type": "stream",
     "text": [
      "fixed acidity          -0.113663\n",
      "volatile acidity       -0.194723\n",
      "citric acid            -0.009209\n",
      "residual sugar         -0.097577\n",
      "chlorides              -0.209934\n",
      "free sulfur dioxide     0.008158\n",
      "total sulfur dioxide   -0.174737\n",
      "density                -0.307123\n",
      "pH                      0.099427\n",
      "sulphates               0.053678\n",
      "alcohol                 0.435575\n",
      "quality                 1.000000\n",
      "Name: quality, dtype: float64\n"
     ]
    }
   ],
   "source": [
    "# Calculate the Pearson correlation coefficient (r) of the predictors with respect to the target variable: quality\n",
    "correlation_coefficients = white_wine_data.corr()['quality']\n",
    "\n",
    "# Display the correlation coefficients\n",
    "print(correlation_coefficients)\n"
   ]
  },
  {
   "cell_type": "code",
   "execution_count": 25,
   "metadata": {},
   "outputs": [
    {
     "name": "stdout",
     "output_type": "stream",
     "text": [
      "fixed acidity           0.124052\n",
      "volatile acidity       -0.390558\n",
      "citric acid             0.226373\n",
      "residual sugar          0.013732\n",
      "chlorides              -0.128907\n",
      "free sulfur dioxide    -0.050656\n",
      "total sulfur dioxide   -0.185100\n",
      "density                -0.174919\n",
      "pH                     -0.057731\n",
      "sulphates               0.251397\n",
      "alcohol                 0.476166\n",
      "quality                 1.000000\n",
      "Name: quality, dtype: float64\n"
     ]
    }
   ],
   "source": [
    "# Calculate the Pearson correlation coefficient (r) of the predictors with respect to the target variable: quality\n",
    "correlation_coefficients = red_wine_data.corr()['quality']\n",
    "\n",
    "# Display the correlation coefficients\n",
    "print(correlation_coefficients)"
   ]
  },
  {
   "cell_type": "markdown",
   "metadata": {},
   "source": [
    "Ook de table2 van het artikel komt overeen met de data van whitewine."
   ]
  },
  {
   "cell_type": "markdown",
   "metadata": {},
   "source": []
  },
  {
   "cell_type": "markdown",
   "metadata": {},
   "source": [
    "De cijfers van table3 zijn volgens mij de cijfers die we moeten reproduceren."
   ]
  }
 ],
 "metadata": {
  "kernelspec": {
   "display_name": "base",
   "language": "python",
   "name": "python3"
  },
  "language_info": {
   "codemirror_mode": {
    "name": "ipython",
    "version": 3
   },
   "file_extension": ".py",
   "mimetype": "text/x-python",
   "name": "python",
   "nbconvert_exporter": "python",
   "pygments_lexer": "ipython3",
   "version": "3.11.7"
  }
 },
 "nbformat": 4,
 "nbformat_minor": 2
}
